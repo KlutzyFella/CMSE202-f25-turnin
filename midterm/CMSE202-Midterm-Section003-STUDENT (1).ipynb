{
 "cells": [
  {
   "cell_type": "markdown",
   "id": "3def3efc",
   "metadata": {
    "tags": []
   },
   "source": [
    "# CMSE 202 Midterm (Section 003 - Spring 2025)\n",
    "\n",
    "The goal of this midterm is to give you the opportunity to test out some of the skills that you've developed thus far this semester. In particular, you'll practice setting up a GitHub repository, committing and pushing repository changes, downloading data with command line tools, performing some data analysis, possibly using a new Python package, and writing a python class. You should find that you have all of the skills necessary to complete this exam with even just eight weeks of CMSE 202 under your belt!\n",
    "\n",
    "You are encouraged to look through the entire exam before you get started so that you can appropriately budget your time and understand the broad goals of the exam. Once you've read through it, try doing Parts 0 and 1 first so that you have your repository set up and you download all necessary data files as they will be necessary to complete the assigned tasks. Let your instructor know right away if you have problems downloading the data!\n",
    "\n",
    "The exam is set up so that even if you get stuck on one part there are opportunities to get points on the other parts, so consider jumping ahead if you feel like you aren't making progress and then come back later if you have time. If you have any questions during the exam, you may ask the instructor, the TA, or the LA privately: simply raise your hand and one of us will come over to you. \n",
    "\n",
    "\n",
    "**Important note about using online resources**: This exam is \"open internet\". That means that you can look up documentation, google how to accomplish certain Python tasks, etc. Being able to effectively use the internet for computational modeling and data science is a very important skill, so we want to make sure you have the opportunity to exercise that skill. **However: The use of any person-to-person communication software tools is absolutely not acceptable.** **Generative AI is allowed but you must provide the sources.** If you are seen accessing your email, using a collaborative cloud storage or document software (e.g. Slack, Google Documents), you will be at risk for receiving a zero on the exam.\n",
    "\n",
    "**Keep your eyes on your screen!** Unfortunately, there isn't enough space in the room for everyone to sit at their own table so please do your best to keep your eyes on your own screen. This exam is designed to give you the opportunity to show the instructor what you can do and you should hold yourself accountable for maintaining a high level of academic integrity. If any of the instructors observe suspicious behavior, you will, again, risk receiving a zero."
   ]
  },
  {
   "cell_type": "markdown",
   "id": "6b0b3d3a",
   "metadata": {},
   "source": [
    "---\n",
    "## Part 0: Academic integrity statement\n",
    "\n",
    "Read the following statement and edit the markdown text to put your name in the statement. This is your commitment to doing your own authentic work on this exam."
   ]
  },
  {
   "cell_type": "markdown",
   "id": "8e3dc4df",
   "metadata": {
    "pycharm": {
     "name": "#%% md\n"
    }
   },
   "source": [
    "> I, **Ronnit Chopra**, affirm that this exam represents my own authetic work, without the use of any unpermitted aids or generative AIs or person-to-person communication. I understand that this exam an an opportunity to showcase my own progress in developing and improving my computational skills and have done my best to demonstrate those skills."
   ]
  },
  {
   "cell_type": "markdown",
   "id": "435ee396",
   "metadata": {
    "tags": []
   },
   "source": [
    "## Part 1: Add to your Git repository to track your progress on your exam (7 points total)\n",
    "\n",
    "Before you get to far along in the exam, you're going to add it to the `cmse202-s25-turnin` repository you created in class (or in Homework 1) so that you can track your progress on the exam and preserve the final version that you turn in. In order to do this you need to\n",
    "\n",
    "1. Navigate to your `cmse202-s25-turnin` repository and create a new directory called `midterm`.\n",
    "2. Move this notebook into that **new directory** in your repository, then **add it and commit it to your repository**.\n",
    "3. Finally, to test that everything is working, \"git push\" the file so that it ends up in your GitHub repository.\n",
    "\n",
    "**Important**: Double check you've added your Professor and your TA as collaborators to your \"turnin\" respository (you should have done this in the previous homework assignment).\n",
    "\n",
    "**Important**: Make sure that the version of this notebook that you are working on is the same one that you just added to your repository! If you are working on a different copy of the noteobok, **none of your changes will be tracked**!\n",
    "\n",
    "The file should now show up on your GitHub account in the `cmse202-s25-turnin` repository inside the `midterm` directory you just created.  Periodically, **you'll be asked to commit your changes to the repository and push them to the remote GitHub location**. It can be good to get into a habit of committing your changes any time you make a significant modification."
   ]
  },
  {
   "cell_type": "markdown",
   "id": "290bab71",
   "metadata": {},
   "source": [
    "&#9989; **Question 1.1 Put all the Git commands you used to add your midterm folder and file to your GitHub repository (1 point)**:"
   ]
  },
  {
   "cell_type": "markdown",
   "id": "265b8550-2340-4163-8e5f-45e8c017f33b",
   "metadata": {},
   "source": [
    "&#9989; **Do this**:\n",
    "``` bash\n",
    "cd .\\CMSE202-f25-turnin\\\n",
    "mkdir midterm\n",
    "mv '..\\Exams\\CMSE202-Midterm-Section003-STUDENT (1).ipynb' .\\midterm\\\n",
    "git commit\n",
    "git push\n",
    "git pull \n",
    "git push\n",
    "```\n"
   ]
  },
  {
   "cell_type": "markdown",
   "id": "903ce347",
   "metadata": {},
   "source": [
    "&#9989; **Question 1.2 Put the code the instructor will need to clone your repository here (1 point)**:\n"
   ]
  },
  {
   "cell_type": "markdown",
   "id": "adf93908",
   "metadata": {},
   "source": [
    "``` bash\n",
    "git clone https://github.com/KlutzyFella/CMSE202-f25-turnin\n",
    "```"
   ]
  },
  {
   "cell_type": "markdown",
   "id": "8239c731",
   "metadata": {},
   "source": [
    "&#9989; **Question 1.3 If you need to create a new branch 'version2', what is the git command? What is the command to move to that branch? (1 point)**:\n"
   ]
  },
  {
   "cell_type": "markdown",
   "id": "f41179b5-784b-4951-945f-610878e19fad",
   "metadata": {},
   "source": [
    "&#9989; **Do this**:\n",
    "```\n",
    "git branch version2\n",
    "git checkout version2\n",
    "```\n"
   ]
  },
  {
   "cell_type": "markdown",
   "id": "39b5c084",
   "metadata": {},
   "source": [
    "&#9989; **Question 1.4 (4 points)**: After completing each of Part 2, Part 3, Part 4, and Part 5 below, save your notebook, commit the changes to your Git repository using a descriptive commit message, and push the changes to GitHub. Note that there are large &#128721; **STOP** signs reminding you to do this after each part."
   ]
  },
  {
   "cell_type": "markdown",
   "id": "8ebbe96b-c3a7-41b5-8be7-1e1eb842eee5",
   "metadata": {},
   "source": [
    "&#9989; **Do this**: **Leave the source of Gen AI here if you used any in Part 1.**"
   ]
  },
  {
   "cell_type": "markdown",
   "id": "5262e8d9",
   "metadata": {},
   "source": [
    "```\n",
    "Searched the command for git checkout on google, not sure what AI the brave browser uses to give summary of results\n",
    "```"
   ]
  },
  {
   "cell_type": "markdown",
   "id": "2a33af2b",
   "metadata": {},
   "source": [
    "## Part 2: Downloading and analyzing unfamiliar data (8 points)\n",
    "\n"
   ]
  },
  {
   "cell_type": "markdown",
   "id": "fdbaac8f",
   "metadata": {},
   "source": [
    "&#9989; **Question 2.1 (1 point)**:\n",
    "Download the files using `curl` and the links (`https://raw.githubusercontent.com/huichiayu/cmse_202_802/main/data/SAS.csv`). Put the command you used to download the files in the cell below.\n"
   ]
  },
  {
   "cell_type": "markdown",
   "id": "acd32e74",
   "metadata": {},
   "source": [
    "### Put your code here:\n",
    "``` bash\n",
    "curl https://raw.githubusercontent.com/huichiayu/cmse_202_802/main/data/SAS.csv -o SAS.csv\n",
    "```"
   ]
  },
  {
   "cell_type": "markdown",
   "id": "5c1ff7ba",
   "metadata": {},
   "source": [
    "&#9989; **Question 2.2 (1 point)**: This file is a dataset of diabetic patients. Use pandas to import and display the data.\n"
   ]
  },
  {
   "cell_type": "code",
   "execution_count": 7,
   "id": "0eabef99",
   "metadata": {},
   "outputs": [
    {
     "data": {
      "text/html": [
       "<div>\n",
       "<style scoped>\n",
       "    .dataframe tbody tr th:only-of-type {\n",
       "        vertical-align: middle;\n",
       "    }\n",
       "\n",
       "    .dataframe tbody tr th {\n",
       "        vertical-align: top;\n",
       "    }\n",
       "\n",
       "    .dataframe thead th {\n",
       "        text-align: right;\n",
       "    }\n",
       "</style>\n",
       "<table border=\"1\" class=\"dataframe\">\n",
       "  <thead>\n",
       "    <tr style=\"text-align: right;\">\n",
       "      <th></th>\n",
       "      <th>AGE</th>\n",
       "      <th>SEX</th>\n",
       "      <th>BMI</th>\n",
       "      <th>Blood_pressure</th>\n",
       "      <th>Total_cholesterol</th>\n",
       "      <th>LD_lipo</th>\n",
       "      <th>HD_lipo</th>\n",
       "      <th>Total_cholesterol/HDL</th>\n",
       "      <th>triglycerides</th>\n",
       "      <th>Glucose</th>\n",
       "      <th>Y</th>\n",
       "    </tr>\n",
       "  </thead>\n",
       "  <tbody>\n",
       "    <tr>\n",
       "      <th>0</th>\n",
       "      <td>59</td>\n",
       "      <td>2</td>\n",
       "      <td>32.1</td>\n",
       "      <td>101.0</td>\n",
       "      <td>157</td>\n",
       "      <td>93.2</td>\n",
       "      <td>38.0</td>\n",
       "      <td>4.0</td>\n",
       "      <td>4.8598</td>\n",
       "      <td>87</td>\n",
       "      <td>151</td>\n",
       "    </tr>\n",
       "    <tr>\n",
       "      <th>1</th>\n",
       "      <td>48</td>\n",
       "      <td>1</td>\n",
       "      <td>21.6</td>\n",
       "      <td>87.0</td>\n",
       "      <td>183</td>\n",
       "      <td>103.2</td>\n",
       "      <td>70.0</td>\n",
       "      <td>3.0</td>\n",
       "      <td>3.8918</td>\n",
       "      <td>69</td>\n",
       "      <td>75</td>\n",
       "    </tr>\n",
       "    <tr>\n",
       "      <th>2</th>\n",
       "      <td>72</td>\n",
       "      <td>2</td>\n",
       "      <td>30.5</td>\n",
       "      <td>93.0</td>\n",
       "      <td>156</td>\n",
       "      <td>93.6</td>\n",
       "      <td>41.0</td>\n",
       "      <td>4.0</td>\n",
       "      <td>4.6728</td>\n",
       "      <td>85</td>\n",
       "      <td>141</td>\n",
       "    </tr>\n",
       "    <tr>\n",
       "      <th>3</th>\n",
       "      <td>24</td>\n",
       "      <td>1</td>\n",
       "      <td>25.3</td>\n",
       "      <td>84.0</td>\n",
       "      <td>198</td>\n",
       "      <td>131.4</td>\n",
       "      <td>40.0</td>\n",
       "      <td>5.0</td>\n",
       "      <td>4.8903</td>\n",
       "      <td>89</td>\n",
       "      <td>206</td>\n",
       "    </tr>\n",
       "    <tr>\n",
       "      <th>4</th>\n",
       "      <td>50</td>\n",
       "      <td>1</td>\n",
       "      <td>23.0</td>\n",
       "      <td>101.0</td>\n",
       "      <td>192</td>\n",
       "      <td>125.4</td>\n",
       "      <td>52.0</td>\n",
       "      <td>4.0</td>\n",
       "      <td>4.2905</td>\n",
       "      <td>80</td>\n",
       "      <td>135</td>\n",
       "    </tr>\n",
       "  </tbody>\n",
       "</table>\n",
       "</div>"
      ],
      "text/plain": [
       "   AGE  SEX   BMI  Blood_pressure  Total_cholesterol  LD_lipo  HD_lipo  \\\n",
       "0   59    2  32.1           101.0                157     93.2     38.0   \n",
       "1   48    1  21.6            87.0                183    103.2     70.0   \n",
       "2   72    2  30.5            93.0                156     93.6     41.0   \n",
       "3   24    1  25.3            84.0                198    131.4     40.0   \n",
       "4   50    1  23.0           101.0                192    125.4     52.0   \n",
       "\n",
       "   Total_cholesterol/HDL  triglycerides  Glucose    Y  \n",
       "0                    4.0         4.8598       87  151  \n",
       "1                    3.0         3.8918       69   75  \n",
       "2                    4.0         4.6728       85  141  \n",
       "3                    5.0         4.8903       89  206  \n",
       "4                    4.0         4.2905       80  135  "
      ]
     },
     "execution_count": 7,
     "metadata": {},
     "output_type": "execute_result"
    }
   ],
   "source": [
    "### Put your code here:\n",
    "import pandas as pd\n",
    "\n",
    "# Read the CSV file into a DataFrame\n",
    "diaPatients = pd.read_csv('SAS.csv')\n",
    "\n",
    "diaPatients.head()"
   ]
  },
  {
   "cell_type": "markdown",
   "id": "d86e79ad",
   "metadata": {},
   "source": [
    "&#9989; **Question 2.3 (1 point)**: This dataset contains several columns. The last column seems irrelevant to what we care. Drop the last column from the dataframe.\n",
    "\n"
   ]
  },
  {
   "cell_type": "code",
   "execution_count": 8,
   "id": "7fa9bffb",
   "metadata": {},
   "outputs": [
    {
     "data": {
      "text/html": [
       "<div>\n",
       "<style scoped>\n",
       "    .dataframe tbody tr th:only-of-type {\n",
       "        vertical-align: middle;\n",
       "    }\n",
       "\n",
       "    .dataframe tbody tr th {\n",
       "        vertical-align: top;\n",
       "    }\n",
       "\n",
       "    .dataframe thead th {\n",
       "        text-align: right;\n",
       "    }\n",
       "</style>\n",
       "<table border=\"1\" class=\"dataframe\">\n",
       "  <thead>\n",
       "    <tr style=\"text-align: right;\">\n",
       "      <th></th>\n",
       "      <th>AGE</th>\n",
       "      <th>SEX</th>\n",
       "      <th>BMI</th>\n",
       "      <th>Blood_pressure</th>\n",
       "      <th>Total_cholesterol</th>\n",
       "      <th>LD_lipo</th>\n",
       "      <th>HD_lipo</th>\n",
       "      <th>Total_cholesterol/HDL</th>\n",
       "      <th>triglycerides</th>\n",
       "      <th>Glucose</th>\n",
       "    </tr>\n",
       "  </thead>\n",
       "  <tbody>\n",
       "    <tr>\n",
       "      <th>0</th>\n",
       "      <td>59</td>\n",
       "      <td>2</td>\n",
       "      <td>32.1</td>\n",
       "      <td>101.0</td>\n",
       "      <td>157</td>\n",
       "      <td>93.2</td>\n",
       "      <td>38.0</td>\n",
       "      <td>4.0</td>\n",
       "      <td>4.8598</td>\n",
       "      <td>87</td>\n",
       "    </tr>\n",
       "    <tr>\n",
       "      <th>1</th>\n",
       "      <td>48</td>\n",
       "      <td>1</td>\n",
       "      <td>21.6</td>\n",
       "      <td>87.0</td>\n",
       "      <td>183</td>\n",
       "      <td>103.2</td>\n",
       "      <td>70.0</td>\n",
       "      <td>3.0</td>\n",
       "      <td>3.8918</td>\n",
       "      <td>69</td>\n",
       "    </tr>\n",
       "    <tr>\n",
       "      <th>2</th>\n",
       "      <td>72</td>\n",
       "      <td>2</td>\n",
       "      <td>30.5</td>\n",
       "      <td>93.0</td>\n",
       "      <td>156</td>\n",
       "      <td>93.6</td>\n",
       "      <td>41.0</td>\n",
       "      <td>4.0</td>\n",
       "      <td>4.6728</td>\n",
       "      <td>85</td>\n",
       "    </tr>\n",
       "    <tr>\n",
       "      <th>3</th>\n",
       "      <td>24</td>\n",
       "      <td>1</td>\n",
       "      <td>25.3</td>\n",
       "      <td>84.0</td>\n",
       "      <td>198</td>\n",
       "      <td>131.4</td>\n",
       "      <td>40.0</td>\n",
       "      <td>5.0</td>\n",
       "      <td>4.8903</td>\n",
       "      <td>89</td>\n",
       "    </tr>\n",
       "    <tr>\n",
       "      <th>4</th>\n",
       "      <td>50</td>\n",
       "      <td>1</td>\n",
       "      <td>23.0</td>\n",
       "      <td>101.0</td>\n",
       "      <td>192</td>\n",
       "      <td>125.4</td>\n",
       "      <td>52.0</td>\n",
       "      <td>4.0</td>\n",
       "      <td>4.2905</td>\n",
       "      <td>80</td>\n",
       "    </tr>\n",
       "  </tbody>\n",
       "</table>\n",
       "</div>"
      ],
      "text/plain": [
       "   AGE  SEX   BMI  Blood_pressure  Total_cholesterol  LD_lipo  HD_lipo  \\\n",
       "0   59    2  32.1           101.0                157     93.2     38.0   \n",
       "1   48    1  21.6            87.0                183    103.2     70.0   \n",
       "2   72    2  30.5            93.0                156     93.6     41.0   \n",
       "3   24    1  25.3            84.0                198    131.4     40.0   \n",
       "4   50    1  23.0           101.0                192    125.4     52.0   \n",
       "\n",
       "   Total_cholesterol/HDL  triglycerides  Glucose  \n",
       "0                    4.0         4.8598       87  \n",
       "1                    3.0         3.8918       69  \n",
       "2                    4.0         4.6728       85  \n",
       "3                    5.0         4.8903       89  \n",
       "4                    4.0         4.2905       80  "
      ]
     },
     "execution_count": 8,
     "metadata": {},
     "output_type": "execute_result"
    }
   ],
   "source": [
    "### Put your code here:\n",
    "diaPatients = diaPatients.iloc[:, :-1]\n",
    "diaPatients.head()\n"
   ]
  },
  {
   "cell_type": "markdown",
   "id": "2e90d1bd",
   "metadata": {},
   "source": [
    "&#9989; **Question 2.4 (2 points)**: We want to analyze the data of male and female patients separately. Group the data by the \"SEX\" column and then use the built-in Pandas function to get a quick statistical summary of your data (e.g. the mean, standard deviation, min, max, etc).\n"
   ]
  },
  {
   "cell_type": "code",
   "execution_count": null,
   "id": "b777a6af",
   "metadata": {},
   "outputs": [
    {
     "data": {
      "text/html": [
       "<div>\n",
       "<style scoped>\n",
       "    .dataframe tbody tr th:only-of-type {\n",
       "        vertical-align: middle;\n",
       "    }\n",
       "\n",
       "    .dataframe tbody tr th {\n",
       "        vertical-align: top;\n",
       "    }\n",
       "\n",
       "    .dataframe thead tr th {\n",
       "        text-align: left;\n",
       "    }\n",
       "\n",
       "    .dataframe thead tr:last-of-type th {\n",
       "        text-align: right;\n",
       "    }\n",
       "</style>\n",
       "<table border=\"1\" class=\"dataframe\">\n",
       "  <thead>\n",
       "    <tr>\n",
       "      <th></th>\n",
       "      <th colspan=\"4\" halign=\"left\">AGE</th>\n",
       "      <th colspan=\"4\" halign=\"left\">BMI</th>\n",
       "      <th colspan=\"2\" halign=\"left\">Blood_pressure</th>\n",
       "      <th>...</th>\n",
       "      <th colspan=\"2\" halign=\"left\">Total_cholesterol/HDL</th>\n",
       "      <th colspan=\"4\" halign=\"left\">triglycerides</th>\n",
       "      <th colspan=\"4\" halign=\"left\">Glucose</th>\n",
       "    </tr>\n",
       "    <tr>\n",
       "      <th></th>\n",
       "      <th>mean</th>\n",
       "      <th>std</th>\n",
       "      <th>min</th>\n",
       "      <th>max</th>\n",
       "      <th>mean</th>\n",
       "      <th>std</th>\n",
       "      <th>min</th>\n",
       "      <th>max</th>\n",
       "      <th>mean</th>\n",
       "      <th>std</th>\n",
       "      <th>...</th>\n",
       "      <th>min</th>\n",
       "      <th>max</th>\n",
       "      <th>mean</th>\n",
       "      <th>std</th>\n",
       "      <th>min</th>\n",
       "      <th>max</th>\n",
       "      <th>mean</th>\n",
       "      <th>std</th>\n",
       "      <th>min</th>\n",
       "      <th>max</th>\n",
       "    </tr>\n",
       "    <tr>\n",
       "      <th>SEX</th>\n",
       "      <th></th>\n",
       "      <th></th>\n",
       "      <th></th>\n",
       "      <th></th>\n",
       "      <th></th>\n",
       "      <th></th>\n",
       "      <th></th>\n",
       "      <th></th>\n",
       "      <th></th>\n",
       "      <th></th>\n",
       "      <th></th>\n",
       "      <th></th>\n",
       "      <th></th>\n",
       "      <th></th>\n",
       "      <th></th>\n",
       "      <th></th>\n",
       "      <th></th>\n",
       "      <th></th>\n",
       "      <th></th>\n",
       "      <th></th>\n",
       "      <th></th>\n",
       "    </tr>\n",
       "  </thead>\n",
       "  <tbody>\n",
       "    <tr>\n",
       "      <th>1</th>\n",
       "      <td>46.382979</td>\n",
       "      <td>13.120665</td>\n",
       "      <td>19.0</td>\n",
       "      <td>75.0</td>\n",
       "      <td>26.010638</td>\n",
       "      <td>4.571242</td>\n",
       "      <td>18.5</td>\n",
       "      <td>41.3</td>\n",
       "      <td>91.521957</td>\n",
       "      <td>14.125498</td>\n",
       "      <td>...</td>\n",
       "      <td>2.0</td>\n",
       "      <td>8.00</td>\n",
       "      <td>4.567993</td>\n",
       "      <td>0.513539</td>\n",
       "      <td>3.4965</td>\n",
       "      <td>6.107</td>\n",
       "      <td>89.017021</td>\n",
       "      <td>11.403241</td>\n",
       "      <td>58.0</td>\n",
       "      <td>124.0</td>\n",
       "    </tr>\n",
       "    <tr>\n",
       "      <th>2</th>\n",
       "      <td>50.942029</td>\n",
       "      <td>12.697623</td>\n",
       "      <td>20.0</td>\n",
       "      <td>79.0</td>\n",
       "      <td>26.790338</td>\n",
       "      <td>4.210251</td>\n",
       "      <td>18.0</td>\n",
       "      <td>42.2</td>\n",
       "      <td>98.194783</td>\n",
       "      <td>12.613532</td>\n",
       "      <td>...</td>\n",
       "      <td>2.0</td>\n",
       "      <td>9.09</td>\n",
       "      <td>4.724760</td>\n",
       "      <td>0.521059</td>\n",
       "      <td>3.2581</td>\n",
       "      <td>6.107</td>\n",
       "      <td>93.806763</td>\n",
       "      <td>11.089283</td>\n",
       "      <td>66.0</td>\n",
       "      <td>124.0</td>\n",
       "    </tr>\n",
       "  </tbody>\n",
       "</table>\n",
       "<p>2 rows × 36 columns</p>\n",
       "</div>"
      ],
      "text/plain": [
       "           AGE                               BMI                        \\\n",
       "          mean        std   min   max       mean       std   min   max   \n",
       "SEX                                                                      \n",
       "1    46.382979  13.120665  19.0  75.0  26.010638  4.571242  18.5  41.3   \n",
       "2    50.942029  12.697623  20.0  79.0  26.790338  4.210251  18.0  42.2   \n",
       "\n",
       "    Blood_pressure             ... Total_cholesterol/HDL       triglycerides  \\\n",
       "              mean        std  ...                   min   max          mean   \n",
       "SEX                            ...                                             \n",
       "1        91.521957  14.125498  ...                   2.0  8.00      4.567993   \n",
       "2        98.194783  12.613532  ...                   2.0  9.09      4.724760   \n",
       "\n",
       "                                Glucose                          \n",
       "          std     min    max       mean        std   min    max  \n",
       "SEX                                                              \n",
       "1    0.513539  3.4965  6.107  89.017021  11.403241  58.0  124.0  \n",
       "2    0.521059  3.2581  6.107  93.806763  11.089283  66.0  124.0  \n",
       "\n",
       "[2 rows x 36 columns]"
      ]
     },
     "execution_count": 10,
     "metadata": {},
     "output_type": "execute_result"
    }
   ],
   "source": [
    "grouped_data = diaPatients.groupby('SEX').describe().loc[:, (slice(None), ['mean', 'std', 'min', 'max'])]\n",
    "grouped_data"
   ]
  },
  {
   "cell_type": "markdown",
   "id": "42fe8ccb",
   "metadata": {},
   "source": [
    "&#9989; **Question 2.5 (1 point)**: Let's analyze the correlation between BMI and Glucose of male patients (SEX = 1). Extract the data of male patients and make a scatter plot of BMI versus Glucose. Make sure to include labels and a title for your plot.\n"
   ]
  },
  {
   "cell_type": "code",
   "execution_count": 11,
   "id": "97b35785",
   "metadata": {},
   "outputs": [
    {
     "data": {
      "image/png": "[encoded data removed]",
      "text/plain": [
       "<Figure size 640x480 with 1 Axes>"
      ]
     },
     "metadata": {},
     "output_type": "display_data"
    }
   ],
   "source": [
    "import matplotlib.pyplot as plt\n",
    "\n",
    "# Extract data for male patients\n",
    "male_patients = diaPatients[diaPatients['SEX'] == 1]\n",
    "\n",
    "# Create scatter plot\n",
    "plt.scatter(male_patients['BMI'], male_patients['Glucose'])\n",
    "plt.xlabel('BMI')\n",
    "plt.ylabel('Glucose')\n",
    "plt.title('Scatter plot of BMI vs Glucose for Male Patients')\n",
    "plt.show()\n"
   ]
  },
  {
   "cell_type": "markdown",
   "id": "9732c055",
   "metadata": {},
   "source": [
    "&#9989; **Question 2.6 (2 points)**: Let's extract female patients' data.\n",
    "Create two histograms for BMI distribution on the same plot. One for male and the other for female patients. Again, make sure to include labels for the axis, as well as a title for your plot."
   ]
  },
  {
   "cell_type": "code",
   "execution_count": 12,
   "id": "ba179043",
   "metadata": {},
   "outputs": [
    {
     "data": {
      "image/png": "[encoded data removed]",
      "text/plain": [
       "<Figure size 640x480 with 1 Axes>"
      ]
     },
     "metadata": {},
     "output_type": "display_data"
    }
   ],
   "source": [
    "# Extract data for female patients\n",
    "female_patients = diaPatients[diaPatients['SEX'] == 2]\n",
    "\n",
    "# Create histograms for BMI distribution\n",
    "plt.hist(male_patients['BMI'], bins=20, alpha=0.5, label='Male')\n",
    "plt.hist(female_patients['BMI'], bins=20, alpha=0.5, label='Female')\n",
    "plt.xlabel('BMI')\n",
    "plt.ylabel('Frequency')\n",
    "plt.title('BMI Distribution for Male and Female Patients')\n",
    "plt.legend()\n",
    "plt.show()"
   ]
  },
  {
   "cell_type": "markdown",
   "id": "1561ad28-7372-4160-bcfb-33b03d9174e8",
   "metadata": {},
   "source": [
    "&#9989; **Do this**: **Leave the source of Gen AI here if you used any in Part 2.**\n",
    "\n",
    "```\n",
    "Used GitHub Copilot for grouping data and getting statistical summary. \n",
    "Prompt: How can I get a statistical summary of this data after grouping it by sex?\n",
    "```"
   ]
  },
  {
   "cell_type": "markdown",
   "id": "c7fb929b",
   "metadata": {
    "jp-MarkdownHeadingCollapsed": true,
    "tags": []
   },
   "source": [
    "---\n",
    "### &#128721; STOP (1 point)\n",
    "**Pause to commit your changes to your Git repository!**\n",
    "\n",
    "Take a moment to save your notebook, commit  and push the changes to your Git repository.\n",
    "\n",
    "---"
   ]
  },
  {
   "cell_type": "markdown",
   "id": "73b28e5a",
   "metadata": {
    "tags": []
   },
   "source": [
    "## Part 3: Working with a new Python package (9 points)\n"
   ]
  },
  {
   "cell_type": "markdown",
   "id": "ca47849a-c1e3-48af-b48e-02d51267ff9d",
   "metadata": {},
   "source": [
    "For this problem, we want you to use a new package that you aren’t as used to. Specifically, you’ll be using the holoviews plotting package (https://holoviews.org).\n",
    "\n",
    "✅ Your goal is to use this new package to create some new plots.\n",
    "\n",
    "*Hint: You might want to take a look at holoviews' example gallery.*"
   ]
  },
  {
   "cell_type": "markdown",
   "id": "fac01f60",
   "metadata": {},
   "source": [
    "&#9989; **Question 3.1 (1 point):** What is the command to install holoviews seaborn library?"
   ]
  },
  {
   "cell_type": "markdown",
   "id": "cc86c046",
   "metadata": {},
   "source": [
    "# Put your code here\n",
    "``` bash \n",
    "pip install holoviews\n",
    "```\n",
    "\n"
   ]
  },
  {
   "cell_type": "markdown",
   "id": "6890c0b6",
   "metadata": {},
   "source": [
    "&#9989; **Question 3.2 (3 points):** Let's make a scatter plot of BMI versus Glucose for female patients using holoviews.\n"
   ]
  },
  {
   "cell_type": "code",
   "execution_count": 34,
   "id": "8901b66f",
   "metadata": {},
   "outputs": [
    {
     "data": {},
     "metadata": {},
     "output_type": "display_data"
    },
    {
     "data": {
      "application/vnd.holoviews_exec.v0+json": "",
      "text/html": [
       "<div id='b3dae4ef-3bc1-46da-96ad-eefed0c8ae0c'>\n",
       "  <div id=\"c82ce60c-5130-440f-ac78-a978230d5c2c\" data-root-id=\"b3dae4ef-3bc1-46da-96ad-eefed0c8ae0c\" style=\"display: contents;\"></div>\n",
       "</div>\n",
       "<script type=\"application/javascript\">(function(root) {\n",
       "  var docs_json = {\"e1a7821b-e239-45d7-ad0a-a603b82ca565\":{\"version\":\"3.6.3\",\"title\":\"Bokeh Application\",\"roots\":[{\"type\":\"object\",\"name\":\"Row\",\"id\":\"b3dae4ef-3bc1-46da-96ad-eefed0c8ae0c\",\"attributes\":{\"name\":\"Row00555\",\"tags\":[\"embedded\"],\"stylesheets\":[\"\\n:host(.pn-loading):before, .pn-loading:before {\\n  background-color: #c3c3c3;\\n  mask-size: auto calc(min(50%, 400px));\\n  -webkit-mask-size: auto calc(min(50%, 400px));\\n}\",{\"type\":\"object\",\"name\":\"ImportedStyleSheet\",\"id\":\"2e198972-e9fd-4f4d-931c-73082f78810b\",\"attributes\":{\"url\":\"https://cdn.holoviz.org/panel/1.6.1/dist/css/loading.css\"}},{\"type\":\"object\",\"name\":\"ImportedStyleSheet\",\"id\":\"9780c07e-c647-4eb0-bf35-4380e5ae7edd\",\"attributes\":{\"url\":\"https://cdn.holoviz.org/panel/1.6.1/dist/css/listpanel.css\"}},{\"type\":\"object\",\"name\":\"ImportedStyleSheet\",\"id\":\"165997da-1cd4-45d7-b232-29f7cd66a645\",\"attributes\":{\"url\":\"https://cdn.holoviz.org/panel/1.6.1/dist/bundled/theme/default.css\"}},{\"type\":\"object\",\"name\":\"ImportedStyleSheet\",\"id\":\"0b2407f7-6774-4e4d-be6d-a554b63d7325\",\"attributes\":{\"url\":\"https://cdn.holoviz.org/panel/1.6.1/dist/bundled/theme/native.css\"}}],\"min_width\":1000,\"margin\":0,\"sizing_mode\":\"stretch_width\",\"align\":\"start\",\"children\":[{\"type\":\"object\",\"name\":\"Spacer\",\"id\":\"63f363cf-241a-4056-8fce-31d4052edf4c\",\"attributes\":{\"name\":\"HSpacer00559\",\"stylesheets\":[\"\\n:host(.pn-loading):before, .pn-loading:before {\\n  background-color: #c3c3c3;\\n  mask-size: auto calc(min(50%, 400px));\\n  -webkit-mask-size: auto calc(min(50%, 400px));\\n}\",{\"id\":\"2e198972-e9fd-4f4d-931c-73082f78810b\"},{\"id\":\"165997da-1cd4-45d7-b232-29f7cd66a645\"},{\"id\":\"0b2407f7-6774-4e4d-be6d-a554b63d7325\"}],\"margin\":0,\"sizing_mode\":\"stretch_width\",\"align\":\"start\"}},{\"type\":\"object\",\"name\":\"Figure\",\"id\":\"75975160-f18f-4938-8729-c2e6c708dff1\",\"attributes\":{\"width\":1000,\"height\":500,\"margin\":[5,10],\"sizing_mode\":\"fixed\",\"align\":\"start\",\"x_range\":{\"type\":\"object\",\"name\":\"Range1d\",\"id\":\"aa27a874-590d-4130-a127-4bb8a6f91035\",\"attributes\":{\"name\":\"BMI\",\"tags\":[[[\"BMI\",null]],[]],\"start\":16.79,\"end\":43.410000000000004,\"reset_start\":16.79,\"reset_end\":43.410000000000004}},\"y_range\":{\"type\":\"object\",\"name\":\"Range1d\",\"id\":\"616af076-8359-476e-9010-c9a88e9bc470\",\"attributes\":{\"name\":\"Glucose\",\"tags\":[[[\"Glucose\",null]],{\"type\":\"map\",\"entries\":[[\"invert_yaxis\",false],[\"autorange\",false]]}],\"start\":60.2,\"end\":129.8,\"reset_start\":60.2,\"reset_end\":129.8}},\"x_scale\":{\"type\":\"object\",\"name\":\"LinearScale\",\"id\":\"c43ee6fc-956f-4b18-9896-ed0467ca223c\"},\"y_scale\":{\"type\":\"object\",\"name\":\"LinearScale\",\"id\":\"03a4531f-4884-4aff-b340-d9e005169d57\"},\"title\":{\"type\":\"object\",\"name\":\"Title\",\"id\":\"b05c6445-eed0-4092-b4a2-3c746c8a231d\",\"attributes\":{\"text\":\"Scatter plot of BMI vs Glucose for Female Patients\",\"text_color\":\"black\",\"text_font_size\":\"12pt\"}},\"renderers\":[{\"type\":\"object\",\"name\":\"GlyphRenderer\",\"id\":\"186ece7d-cb79-412b-acba-2972e21cd85e\",\"attributes\":{\"data_source\":{\"type\":\"object\",\"name\":\"ColumnDataSource\",\"id\":\"95aa629e-e990-464a-b76b-b37d760c5c9c\",\"attributes\":{\"selected\":{\"type\":\"object\",\"name\":\"Selection\",\"id\":\"cf3cc0fa-999c-4227-a78e-030945339427\",\"attributes\":{\"indices\":[],\"line_indices\":[]}},\"selection_policy\":{\"type\":\"object\",\"name\":\"UnionRenderers\",\"id\":\"fa738ab2-e051-45cb-909d-b431b871a7f0\"},\"data\":{\"type\":\"map\",\"entries\":[[\"BMI\",{\"type\":\"ndarray\",\"array\":{\"type\":\"bytes\",\"data\":\"zczMzMwMQEAAAAAAAIA+QAAAAAAAADZAMzMzMzMzOkDNzMzMzAxAQAAAAAAAADxAMzMzMzMzOkAzMzMzM7M4QAAAAAAAgDtAzczMzMxMOEAAAAAAAABAQDMzMzMzMzlAzczMzMzMOUAAAAAAAABDQAAAAAAAgDdAAAAAAACAQEAzMzMzM7M7QJqZmZmZmTlAZmZmZmZmOUCamZmZmVlAQJqZmZmZGTdAAAAAAACANkAzMzMzM7M7QGZmZmZm5jtAAAAAAAAAOEDNzMzMzMw6QDMzMzMzszlAAAAAAAAAOECamZmZmRk4QDMzMzMzszhAAAAAAAAAOUCamZmZmZk3QAAAAAAAADpAAAAAAACAOECamZmZmZk6QAAAAAAAgDdAAAAAAAAAPUDNzMzMzEw4QGZmZmZmZjNAmpmZmZmZNkDNzMzMzEw7QGZmZmZm5jlAMzMzMzMzNkAzMzMzMzM+QGZmZmZmZjdAmpmZmZmZPkAAAAAAAIA5QGZmZmZmZjdAMzMzMzOzO0AAAAAAAIA6QM3MzMzMzD9AZmZmZmZmOUAzMzMzM/NAQJqZmZmZmT1AmpmZmZmZOUAzMzMzMzM6QGZmZmZmpkFAZmZmZmZmOEBmZmZmZmY1QJqZmZmZWUJAMzMzMzOzO0AAAAAAAIA7QDMzMzMzsz5AZmZmZmbmP0DNzMzMzMw7QGZmZmZm5jlAzczMzMxMOkDNzMzMzEw2QM3MzMzMTDxAAAAAAAAAQEDNzMzMzEw3QGZmZmZmJkBAzczMzMyMQEDNzMzMzMw0QGZmZmZm5j9AAAAAAACAOEAAAAAAAIBAQAAAAAAAADNAzczMzMxMO0AzMzMzMzM8QM3MzMzMzDpAZmZmZmbmOkCamZmZmRk3QDMzMzMzszhAzczMzMxMPkAAAAAAAIA2QAAAAAAAgDdAZmZmZmbmOUAzMzMzM7M8QDMzMzMzszpAMzMzMzMzNUAAAAAAAIA6QDMzMzMzMz1AAAAAAAAAO0DNzMzMzMw8QDMzMzMzszhAzczMzMyMQUAzMzMzM7M9QDMzMzMzszZAAAAAAAAAOEBmZmZmZmY9QJqZmZmZGTZAmpmZmZmZN0BmZmZmZuY4QAAAAAAAgEBAZmZmZmZmOkAAAAAAAAA5QAAAAAAAgDlAZmZmZmamQECamZmZmZk5QDMzMzMzMzhAmpmZmZkZNkBmZmZmZmY/QAAAAAAAwEFAmpmZmZmZP0AzMzMzMzM1QJqZmZmZGThAmpmZmZkZQ0AzMzMzMzMzQAAAAAAAAD1AAAAAAAAAOECamZmZmZk0QM3MzMzMTEFAMzMzMzMzPUAzMzMzMzM7QAAAAAAAgDhAzczMzMxMOUAAAAAAAAA3QJqZmZmZGThAmpmZmZkZPEAAAAAAAAAyQM3MzMzMTDhAzczMzMzMOEAAAAAAAIA/QAAAAAAAwEBAAAAAAACAN0AAAAAAAAA+QGZmZmZm5jZAmpmZmZkZOUCamZmZmRk4QM3MzMzMzDZAMzMzMzOzNkAzMzMzMzM6QAAAAAAAgDdAAAAAAACAOkDNzMzMzEw/QDMzMzMzsztAzczMzMwMQEAzMzMzM7M5QJqZmZmZmTlAMzMzMzMzNUAzMzMzMzM9QAAAAAAAADhAzczMzMzMOUAAAAAAAAA2QDMzMzMzMzlAZmZmZmbmP0BmZmZmZmY8QJqZmZmZGTpAAAAAAAAAPECamZmZmZk3QAAAAAAAADVAAAAAAAAAQECamZmZmZk2QDMzMzMzszNAmpmZmZmZPkAAAAAAAIA5QM3MzMzMTDdAAAAAAAAAP0BmZmZmZuY6QM3MzMzMDEJAmpmZmZkZOEDNzMzMzMw5QM3MzMzMjENAmpmZmZkZRUCamZmZmZk6QAAAAAAAgDlAMzMzMzMzOECamZmZmRk6QM3MzMzMTDtAmpmZmZmZOkCamZmZmRkyQDMzMzMzszdAmpmZmZmZN0CamZmZmZk4QJqZmZmZGThAAAAAAACAOkBmZmZmZmZAQJqZmZmZmTdAAAAAAACAN0AAAAAAAIA8QM3MzMzMTDdAZmZmZmbmQkDNzMzMzEw5QM3MzMzMzDdAAAAAAAAAO0BmZmZmZuY7QM3MzMzMzEBAMzMzMzOzNkBmZmZmZmY7QDMzMzMzMzdAZmZmZmbmOkDNzMzMzExBQAAAAAAAgDdAMzMzMzMzPEBmZmZmZuY4QGZmZmZm5jhA\"},\"shape\":[207],\"dtype\":\"float64\",\"order\":\"little\"}],[\"Glucose\",{\"type\":\"ndarray\",\"array\":{\"type\":\"bytes\",\"data\":\"VwAAAFUAAABSAAAAXAAAAF4AAABNAAAAWAAAAFEAAABbAAAAVwAAAHwAAABTAAAAaAAAAGIAAABgAAAAYQAAAFwAAAByAAAAUwAAAFcAAABPAAAAVgAAAFgAAABWAAAAYAAAAGAAAABVAAAAXgAAAF8AAABgAAAAXAAAAFwAAABXAAAAWQAAAG0AAABiAAAAXwAAAFsAAABTAAAAbAAAAGMAAABLAAAAZAAAAFQAAABgAAAAZQAAAHUAAABfAAAAcQAAAFwAAABiAAAAaQAAAGcAAABtAAAAXQAAAEQAAABtAAAAYQAAAFQAAABtAAAAXwAAAFsAAABdAAAAXQAAAFsAAABSAAAAbQAAAF4AAABcAAAAZwAAAGIAAABwAAAAagAAAEIAAAB6AAAAVwAAAHAAAABOAAAAXQAAAGAAAABbAAAAWQAAAGkAAABXAAAAUgAAAFkAAABNAAAAYAAAAGEAAABkAAAAYgAAAFQAAABiAAAAbgAAAFwAAABYAAAAdQAAAGcAAABLAAAAYAAAAFwAAABOAAAAXQAAAF4AAABsAAAAYwAAAGcAAABWAAAAYAAAAGkAAABKAAAAUQAAAFoAAABlAAAAcQAAAE8AAABpAAAAXAAAAFcAAABWAAAAZQAAAFwAAABtAAAAXwAAAF0AAABkAAAAbAAAAGMAAABVAAAAVwAAAFwAAABOAAAAVwAAAFMAAABmAAAAUwAAAFwAAABYAAAAWwAAAGQAAABYAAAASwAAAFgAAABvAAAAbwAAAFsAAABlAAAAbwAAAGkAAABiAAAAZgAAAF8AAABaAAAAYwAAAE4AAABcAAAAVwAAAGEAAABbAAAAXwAAAFQAAABKAAAAfAAAAFEAAABSAAAAagAAAF4AAABJAAAATQAAAGoAAABlAAAAXgAAAHMAAABnAAAAYwAAAG8AAABXAAAAVgAAAGAAAABMAAAAUgAAAE4AAABdAAAAUgAAAFgAAABSAAAARgAAAG0AAABrAAAAUwAAAGAAAABmAAAAVAAAAFoAAABRAAAAXQAAAF8AAABZAAAAUAAAAGEAAABwAAAAYwAAAHsAAABbAAAAXQAAAGYAAABfAAAA\"},\"shape\":[207],\"dtype\":\"int32\",\"order\":\"little\"}]]}}},\"view\":{\"type\":\"object\",\"name\":\"CDSView\",\"id\":\"8cf0bfda-a25e-4720-b462-91c22ee5118c\",\"attributes\":{\"filter\":{\"type\":\"object\",\"name\":\"AllIndices\",\"id\":\"a9d81104-d63e-4030-af5d-bd9c66f0f1ea\"}}},\"glyph\":{\"type\":\"object\",\"name\":\"Scatter\",\"id\":\"d0b3f88b-9f73-4289-96c5-f3f0812049f3\",\"attributes\":{\"tags\":[\"apply_ranges\"],\"x\":{\"type\":\"field\",\"field\":\"BMI\"},\"y\":{\"type\":\"field\",\"field\":\"Glucose\"},\"size\":{\"type\":\"value\",\"value\":2.449489742783178},\"line_color\":{\"type\":\"value\",\"value\":\"#30a2da\"},\"fill_color\":{\"type\":\"value\",\"value\":\"#30a2da\"},\"hatch_color\":{\"type\":\"value\",\"value\":\"#30a2da\"}}},\"selection_glyph\":{\"type\":\"object\",\"name\":\"Scatter\",\"id\":\"945e957b-1746-4e6c-b711-63d11bf2d024\",\"attributes\":{\"tags\":[\"apply_ranges\"],\"x\":{\"type\":\"field\",\"field\":\"BMI\"},\"y\":{\"type\":\"field\",\"field\":\"Glucose\"},\"size\":{\"type\":\"value\",\"value\":2.449489742783178},\"angle\":{\"type\":\"value\",\"value\":0.0},\"line_color\":{\"type\":\"value\",\"value\":\"#30a2da\"},\"line_alpha\":{\"type\":\"value\",\"value\":1.0},\"line_width\":{\"type\":\"value\",\"value\":1},\"line_join\":{\"type\":\"value\",\"value\":\"bevel\"},\"line_cap\":{\"type\":\"value\",\"value\":\"butt\"},\"line_dash\":{\"type\":\"value\",\"value\":[]},\"line_dash_offset\":{\"type\":\"value\",\"value\":0},\"fill_color\":{\"type\":\"value\",\"value\":\"#30a2da\"},\"fill_alpha\":{\"type\":\"value\",\"value\":1.0},\"hatch_color\":{\"type\":\"value\",\"value\":\"#30a2da\"},\"hatch_alpha\":{\"type\":\"value\",\"value\":1.0},\"hatch_scale\":{\"type\":\"value\",\"value\":12.0},\"hatch_pattern\":{\"type\":\"value\",\"value\":null},\"hatch_weight\":{\"type\":\"value\",\"value\":1.0},\"marker\":{\"type\":\"value\",\"value\":\"circle\"}}},\"nonselection_glyph\":{\"type\":\"object\",\"name\":\"Scatter\",\"id\":\"88b93eec-c0ff-47dd-acf3-c8756ab1d92f\",\"attributes\":{\"tags\":[\"apply_ranges\"],\"x\":{\"type\":\"field\",\"field\":\"BMI\"},\"y\":{\"type\":\"field\",\"field\":\"Glucose\"},\"size\":{\"type\":\"value\",\"value\":2.449489742783178},\"line_color\":{\"type\":\"value\",\"value\":\"#30a2da\"},\"line_alpha\":{\"type\":\"value\",\"value\":0.1},\"fill_color\":{\"type\":\"value\",\"value\":\"#30a2da\"},\"fill_alpha\":{\"type\":\"value\",\"value\":0.1},\"hatch_color\":{\"type\":\"value\",\"value\":\"#30a2da\"},\"hatch_alpha\":{\"type\":\"value\",\"value\":0.1}}},\"muted_glyph\":{\"type\":\"object\",\"name\":\"Scatter\",\"id\":\"ec207178-3fff-417c-83bd-619ec4b7390a\",\"attributes\":{\"tags\":[\"apply_ranges\"],\"x\":{\"type\":\"field\",\"field\":\"BMI\"},\"y\":{\"type\":\"field\",\"field\":\"Glucose\"},\"size\":{\"type\":\"value\",\"value\":2.449489742783178},\"line_color\":{\"type\":\"value\",\"value\":\"#30a2da\"},\"line_alpha\":{\"type\":\"value\",\"value\":0.2},\"fill_color\":{\"type\":\"value\",\"value\":\"#30a2da\"},\"fill_alpha\":{\"type\":\"value\",\"value\":0.2},\"hatch_color\":{\"type\":\"value\",\"value\":\"#30a2da\"},\"hatch_alpha\":{\"type\":\"value\",\"value\":0.2}}}}}],\"toolbar\":{\"type\":\"object\",\"name\":\"Toolbar\",\"id\":\"7b863afe-d9cd-4e14-9201-a45c902c4141\",\"attributes\":{\"tools\":[{\"type\":\"object\",\"name\":\"WheelZoomTool\",\"id\":\"5620c500-e9d9-439b-bcbe-de52e1b8940b\",\"attributes\":{\"tags\":[\"hv_created\"],\"renderers\":\"auto\",\"zoom_together\":\"none\"}},{\"type\":\"object\",\"name\":\"SaveTool\",\"id\":\"f15ec42e-82f2-4042-95df-279a4743630e\"},{\"type\":\"object\",\"name\":\"PanTool\",\"id\":\"b01f531c-ac5b-4eef-b0bc-0ff02843714e\"},{\"type\":\"object\",\"name\":\"BoxZoomTool\",\"id\":\"f3c2b9a0-d17f-46cf-89d8-6e095a843b91\",\"attributes\":{\"overlay\":{\"type\":\"object\",\"name\":\"BoxAnnotation\",\"id\":\"60c23410-2e08-4eed-b201-bda611335b6d\",\"attributes\":{\"syncable\":false,\"line_color\":\"black\",\"line_alpha\":1.0,\"line_width\":2,\"line_dash\":[4,4],\"fill_color\":\"lightgrey\",\"fill_alpha\":0.5,\"level\":\"overlay\",\"visible\":false,\"left\":{\"type\":\"number\",\"value\":\"nan\"},\"right\":{\"type\":\"number\",\"value\":\"nan\"},\"top\":{\"type\":\"number\",\"value\":\"nan\"},\"bottom\":{\"type\":\"number\",\"value\":\"nan\"},\"left_units\":\"canvas\",\"right_units\":\"canvas\",\"top_units\":\"canvas\",\"bottom_units\":\"canvas\",\"handles\":{\"type\":\"object\",\"name\":\"BoxInteractionHandles\",\"id\":\"2fedcc85-5703-4a78-a087-e89b0c9f20bf\",\"attributes\":{\"all\":{\"type\":\"object\",\"name\":\"AreaVisuals\",\"id\":\"58e2c765-790c-45a4-99fd-63b074a5b0c0\",\"attributes\":{\"fill_color\":\"white\",\"hover_fill_color\":\"lightgray\"}}}}}}}},{\"type\":\"object\",\"name\":\"ResetTool\",\"id\":\"72fbd561-7bca-4641-8b97-d5cc9dbf90f0\"}],\"active_drag\":{\"id\":\"b01f531c-ac5b-4eef-b0bc-0ff02843714e\"},\"active_scroll\":{\"id\":\"5620c500-e9d9-439b-bcbe-de52e1b8940b\"}}},\"left\":[{\"type\":\"object\",\"name\":\"LinearAxis\",\"id\":\"5835fe95-7c62-49e0-85ff-341d34e33ab6\",\"attributes\":{\"ticker\":{\"type\":\"object\",\"name\":\"BasicTicker\",\"id\":\"57c2e03c-6eb9-4256-88e1-7a824440fcde\",\"attributes\":{\"mantissas\":[1,2,5]}},\"formatter\":{\"type\":\"object\",\"name\":\"BasicTickFormatter\",\"id\":\"152ec0da-2751-4f68-86b2-acd959ad447d\"},\"axis_label\":\"Glucose\",\"major_label_policy\":{\"type\":\"object\",\"name\":\"AllLabels\",\"id\":\"413711d6-c86f-4d27-8309-9300c8df515d\"}}}],\"below\":[{\"type\":\"object\",\"name\":\"LinearAxis\",\"id\":\"ce7da9d3-4a92-4978-b9c9-9a2ebca784e3\",\"attributes\":{\"ticker\":{\"type\":\"object\",\"name\":\"BasicTicker\",\"id\":\"961251de-cb98-4e6a-a153-06d9dae20e73\",\"attributes\":{\"mantissas\":[1,2,5]}},\"formatter\":{\"type\":\"object\",\"name\":\"BasicTickFormatter\",\"id\":\"1b4f24d1-5e53-4f8f-947b-f8dc2d89472e\"},\"axis_label\":\"BMI\",\"major_label_policy\":{\"type\":\"object\",\"name\":\"AllLabels\",\"id\":\"08806e9a-b39f-4d56-b299-8bd33dcba3b7\"}}}],\"center\":[{\"type\":\"object\",\"name\":\"Grid\",\"id\":\"c53fc4d8-1488-47da-827e-a1f8995f46c9\",\"attributes\":{\"axis\":{\"id\":\"ce7da9d3-4a92-4978-b9c9-9a2ebca784e3\"},\"grid_line_color\":null}},{\"type\":\"object\",\"name\":\"Grid\",\"id\":\"34befdff-4cf0-4a76-9230-b7604e310a53\",\"attributes\":{\"dimension\":1,\"axis\":{\"id\":\"5835fe95-7c62-49e0-85ff-341d34e33ab6\"},\"grid_line_color\":null}}],\"min_border_top\":10,\"min_border_bottom\":10,\"min_border_left\":10,\"min_border_right\":10,\"output_backend\":\"webgl\"}},{\"type\":\"object\",\"name\":\"Spacer\",\"id\":\"ce2e1d90-1244-41d2-97c9-ce8ac7c1fe34\",\"attributes\":{\"name\":\"HSpacer00560\",\"stylesheets\":[\"\\n:host(.pn-loading):before, .pn-loading:before {\\n  background-color: #c3c3c3;\\n  mask-size: auto calc(min(50%, 400px));\\n  -webkit-mask-size: auto calc(min(50%, 400px));\\n}\",{\"id\":\"2e198972-e9fd-4f4d-931c-73082f78810b\"},{\"id\":\"165997da-1cd4-45d7-b232-29f7cd66a645\"},{\"id\":\"0b2407f7-6774-4e4d-be6d-a554b63d7325\"}],\"margin\":0,\"sizing_mode\":\"stretch_width\",\"align\":\"start\"}}]}}],\"defs\":[{\"type\":\"model\",\"name\":\"ReactiveHTML1\"},{\"type\":\"model\",\"name\":\"FlexBox1\",\"properties\":[{\"name\":\"align_content\",\"kind\":\"Any\",\"default\":\"flex-start\"},{\"name\":\"align_items\",\"kind\":\"Any\",\"default\":\"flex-start\"},{\"name\":\"flex_direction\",\"kind\":\"Any\",\"default\":\"row\"},{\"name\":\"flex_wrap\",\"kind\":\"Any\",\"default\":\"wrap\"},{\"name\":\"gap\",\"kind\":\"Any\",\"default\":\"\"},{\"name\":\"justify_content\",\"kind\":\"Any\",\"default\":\"flex-start\"}]},{\"type\":\"model\",\"name\":\"FloatPanel1\",\"properties\":[{\"name\":\"config\",\"kind\":\"Any\",\"default\":{\"type\":\"map\"}},{\"name\":\"contained\",\"kind\":\"Any\",\"default\":true},{\"name\":\"position\",\"kind\":\"Any\",\"default\":\"right-top\"},{\"name\":\"offsetx\",\"kind\":\"Any\",\"default\":null},{\"name\":\"offsety\",\"kind\":\"Any\",\"default\":null},{\"name\":\"theme\",\"kind\":\"Any\",\"default\":\"primary\"},{\"name\":\"status\",\"kind\":\"Any\",\"default\":\"normalized\"}]},{\"type\":\"model\",\"name\":\"GridStack1\",\"properties\":[{\"name\":\"mode\",\"kind\":\"Any\",\"default\":\"warn\"},{\"name\":\"ncols\",\"kind\":\"Any\",\"default\":null},{\"name\":\"nrows\",\"kind\":\"Any\",\"default\":null},{\"name\":\"allow_resize\",\"kind\":\"Any\",\"default\":true},{\"name\":\"allow_drag\",\"kind\":\"Any\",\"default\":true},{\"name\":\"state\",\"kind\":\"Any\",\"default\":[]}]},{\"type\":\"model\",\"name\":\"drag1\",\"properties\":[{\"name\":\"slider_width\",\"kind\":\"Any\",\"default\":5},{\"name\":\"slider_color\",\"kind\":\"Any\",\"default\":\"black\"},{\"name\":\"value\",\"kind\":\"Any\",\"default\":50}]},{\"type\":\"model\",\"name\":\"click1\",\"properties\":[{\"name\":\"terminal_output\",\"kind\":\"Any\",\"default\":\"\"},{\"name\":\"debug_name\",\"kind\":\"Any\",\"default\":\"\"},{\"name\":\"clears\",\"kind\":\"Any\",\"default\":0}]},{\"type\":\"model\",\"name\":\"FastWrapper1\",\"properties\":[{\"name\":\"object\",\"kind\":\"Any\",\"default\":null},{\"name\":\"style\",\"kind\":\"Any\",\"default\":null}]},{\"type\":\"model\",\"name\":\"NotificationAreaBase1\",\"properties\":[{\"name\":\"js_events\",\"kind\":\"Any\",\"default\":{\"type\":\"map\"}},{\"name\":\"position\",\"kind\":\"Any\",\"default\":\"bottom-right\"},{\"name\":\"_clear\",\"kind\":\"Any\",\"default\":0}]},{\"type\":\"model\",\"name\":\"NotificationArea1\",\"properties\":[{\"name\":\"js_events\",\"kind\":\"Any\",\"default\":{\"type\":\"map\"}},{\"name\":\"notifications\",\"kind\":\"Any\",\"default\":[]},{\"name\":\"position\",\"kind\":\"Any\",\"default\":\"bottom-right\"},{\"name\":\"_clear\",\"kind\":\"Any\",\"default\":0},{\"name\":\"types\",\"kind\":\"Any\",\"default\":[{\"type\":\"map\",\"entries\":[[\"type\",\"warning\"],[\"background\",\"#ffc107\"],[\"icon\",{\"type\":\"map\",\"entries\":[[\"className\",\"fas fa-exclamation-triangle\"],[\"tagName\",\"i\"],[\"color\",\"white\"]]}]]},{\"type\":\"map\",\"entries\":[[\"type\",\"info\"],[\"background\",\"#007bff\"],[\"icon\",{\"type\":\"map\",\"entries\":[[\"className\",\"fas fa-info-circle\"],[\"tagName\",\"i\"],[\"color\",\"white\"]]}]]}]}]},{\"type\":\"model\",\"name\":\"Notification\",\"properties\":[{\"name\":\"background\",\"kind\":\"Any\",\"default\":null},{\"name\":\"duration\",\"kind\":\"Any\",\"default\":3000},{\"name\":\"icon\",\"kind\":\"Any\",\"default\":null},{\"name\":\"message\",\"kind\":\"Any\",\"default\":\"\"},{\"name\":\"notification_type\",\"kind\":\"Any\",\"default\":null},{\"name\":\"_rendered\",\"kind\":\"Any\",\"default\":false},{\"name\":\"_destroyed\",\"kind\":\"Any\",\"default\":false}]},{\"type\":\"model\",\"name\":\"TemplateActions1\",\"properties\":[{\"name\":\"open_modal\",\"kind\":\"Any\",\"default\":0},{\"name\":\"close_modal\",\"kind\":\"Any\",\"default\":0}]},{\"type\":\"model\",\"name\":\"BootstrapTemplateActions1\",\"properties\":[{\"name\":\"open_modal\",\"kind\":\"Any\",\"default\":0},{\"name\":\"close_modal\",\"kind\":\"Any\",\"default\":0}]},{\"type\":\"model\",\"name\":\"TemplateEditor1\",\"properties\":[{\"name\":\"layout\",\"kind\":\"Any\",\"default\":[]}]},{\"type\":\"model\",\"name\":\"MaterialTemplateActions1\",\"properties\":[{\"name\":\"open_modal\",\"kind\":\"Any\",\"default\":0},{\"name\":\"close_modal\",\"kind\":\"Any\",\"default\":0}]},{\"type\":\"model\",\"name\":\"ReactiveESM1\",\"properties\":[{\"name\":\"esm_constants\",\"kind\":\"Any\",\"default\":{\"type\":\"map\"}}]},{\"type\":\"model\",\"name\":\"JSComponent1\",\"properties\":[{\"name\":\"esm_constants\",\"kind\":\"Any\",\"default\":{\"type\":\"map\"}}]},{\"type\":\"model\",\"name\":\"ReactComponent1\",\"properties\":[{\"name\":\"esm_constants\",\"kind\":\"Any\",\"default\":{\"type\":\"map\"}}]},{\"type\":\"model\",\"name\":\"AnyWidgetComponent1\",\"properties\":[{\"name\":\"esm_constants\",\"kind\":\"Any\",\"default\":{\"type\":\"map\"}}]},{\"type\":\"model\",\"name\":\"request_value1\",\"properties\":[{\"name\":\"fill\",\"kind\":\"Any\",\"default\":\"none\"},{\"name\":\"_synced\",\"kind\":\"Any\",\"default\":null},{\"name\":\"_request_sync\",\"kind\":\"Any\",\"default\":0}]}]}};\n",
       "  var render_items = [{\"docid\":\"e1a7821b-e239-45d7-ad0a-a603b82ca565\",\"roots\":{\"b3dae4ef-3bc1-46da-96ad-eefed0c8ae0c\":\"c82ce60c-5130-440f-ac78-a978230d5c2c\"},\"root_ids\":[\"b3dae4ef-3bc1-46da-96ad-eefed0c8ae0c\"]}];\n",
       "  var docs = Object.values(docs_json)\n",
       "  if (!docs) {\n",
       "    return\n",
       "  }\n",
       "  const py_version = docs[0].version.replace('rc', '-rc.').replace('.dev', '-dev.')\n",
       "  async function embed_document(root) {\n",
       "    var Bokeh = get_bokeh(root)\n",
       "    await Bokeh.embed.embed_items_notebook(docs_json, render_items);\n",
       "    for (const render_item of render_items) {\n",
       "      for (const root_id of render_item.root_ids) {\n",
       "\tconst id_el = document.getElementById(root_id)\n",
       "\tif (id_el.children.length && id_el.children[0].hasAttribute('data-root-id')) {\n",
       "\t  const root_el = id_el.children[0]\n",
       "\t  root_el.id = root_el.id + '-rendered'\n",
       "\t  for (const child of root_el.children) {\n",
       "            // Ensure JupyterLab does not capture keyboard shortcuts\n",
       "            // see: https://jupyterlab.readthedocs.io/en/4.1.x/extension/notebook.html#keyboard-interaction-model\n",
       "\t    child.setAttribute('data-lm-suppress-shortcuts', 'true')\n",
       "\t  }\n",
       "\t}\n",
       "      }\n",
       "    }\n",
       "  }\n",
       "  function get_bokeh(root) {\n",
       "    if (root.Bokeh === undefined) {\n",
       "      return null\n",
       "    } else if (root.Bokeh.version !== py_version) {\n",
       "      if (root.Bokeh.versions === undefined || !root.Bokeh.versions.has(py_version)) {\n",
       "\treturn null\n",
       "      }\n",
       "      return root.Bokeh.versions.get(py_version);\n",
       "    } else if (root.Bokeh.version === py_version) {\n",
       "      return root.Bokeh\n",
       "    }\n",
       "    return null\n",
       "  }\n",
       "  function is_loaded(root) {\n",
       "    var Bokeh = get_bokeh(root)\n",
       "    return (Bokeh != null && Bokeh.Panel !== undefined)\n",
       "  }\n",
       "  if (is_loaded(root)) {\n",
       "    embed_document(root);\n",
       "  } else {\n",
       "    var attempts = 0;\n",
       "    var timer = setInterval(function(root) {\n",
       "      if (is_loaded(root)) {\n",
       "        clearInterval(timer);\n",
       "        embed_document(root);\n",
       "      } else if (document.readyState == \"complete\") {\n",
       "        attempts++;\n",
       "        if (attempts > 200) {\n",
       "          clearInterval(timer);\n",
       "\t  var Bokeh = get_bokeh(root)\n",
       "\t  if (Bokeh == null || Bokeh.Panel == null) {\n",
       "            console.warn(\"Panel: ERROR: Unable to run Panel code because Bokeh or Panel library is missing\");\n",
       "\t  } else {\n",
       "\t    console.warn(\"Panel: WARNING: Attempting to render but not all required libraries could be resolved.\")\n",
       "\t    embed_document(root)\n",
       "\t  }\n",
       "        }\n",
       "      }\n",
       "    }, 25, root)\n",
       "  }\n",
       "})(window);</script>"
      ],
      "text/plain": [
       ":Scatter   [BMI]   (Glucose)"
      ]
     },
     "execution_count": 34,
     "metadata": {
      "application/vnd.holoviews_exec.v0+json": {
       "id": "b3dae4ef-3bc1-46da-96ad-eefed0c8ae0c"
      }
     },
     "output_type": "execute_result"
    }
   ],
   "source": [
    "import numpy as np\n",
    "import holoviews as hv\n",
    "\n",
    "# https://holoviews.org/gallery/demos/bokeh/scatter_economic.html\n",
    "# Create scatter plot using holoviews\n",
    "scatter = hv.Scatter(female_patients, 'BMI', 'Glucose').opts(title='Scatter plot of BMI vs Glucose for Female Patients', \n",
    "                                                             xlabel='BMI', \n",
    "                                                             ylabel='Glucose', \n",
    "                                                             width=1000, \n",
    "                                                             height=500)\n",
    "scatter\n"
   ]
  },
  {
   "cell_type": "markdown",
   "id": "caa1c580",
   "metadata": {},
   "source": [
    "&#9989; **Question 3.3 (2 points):** Make a histogram plot of female patients' Glucose using holoviews.\n"
   ]
  },
  {
   "cell_type": "code",
   "execution_count": 29,
   "id": "54e8f1aa",
   "metadata": {},
   "outputs": [
    {
     "data": {},
     "metadata": {},
     "output_type": "display_data"
    },
    {
     "data": {
      "application/vnd.holoviews_exec.v0+json": "",
      "text/html": [
       "<div id='561b52f1-5822-4364-89e3-e0b34dbc5577'>\n",
       "  <div id=\"e568ae14-3e2c-47e3-a25b-327270b306bf\" data-root-id=\"561b52f1-5822-4364-89e3-e0b34dbc5577\" style=\"display: contents;\"></div>\n",
       "</div>\n",
       "<script type=\"application/javascript\">(function(root) {\n",
       "  var docs_json = {\"b4f50aa8-8764-4cbf-aa9e-87175aff7ece\":{\"version\":\"3.6.3\",\"title\":\"Bokeh Application\",\"roots\":[{\"type\":\"object\",\"name\":\"Row\",\"id\":\"561b52f1-5822-4364-89e3-e0b34dbc5577\",\"attributes\":{\"name\":\"Row00518\",\"tags\":[\"embedded\"],\"stylesheets\":[\"\\n:host(.pn-loading):before, .pn-loading:before {\\n  background-color: #c3c3c3;\\n  mask-size: auto calc(min(50%, 400px));\\n  -webkit-mask-size: auto calc(min(50%, 400px));\\n}\",{\"type\":\"object\",\"name\":\"ImportedStyleSheet\",\"id\":\"6b9a7425-f6ae-45fb-9d18-9667fe322a0e\",\"attributes\":{\"url\":\"https://cdn.holoviz.org/panel/1.6.1/dist/css/loading.css\"}},{\"type\":\"object\",\"name\":\"ImportedStyleSheet\",\"id\":\"5b3d2ac1-a158-4d5a-af59-3034d4108df7\",\"attributes\":{\"url\":\"https://cdn.holoviz.org/panel/1.6.1/dist/css/listpanel.css\"}},{\"type\":\"object\",\"name\":\"ImportedStyleSheet\",\"id\":\"74511800-d979-4cde-bffe-a58b7dbfc253\",\"attributes\":{\"url\":\"https://cdn.holoviz.org/panel/1.6.1/dist/bundled/theme/default.css\"}},{\"type\":\"object\",\"name\":\"ImportedStyleSheet\",\"id\":\"b24e265e-bd42-4fed-b4b2-64d04e9095b7\",\"attributes\":{\"url\":\"https://cdn.holoviz.org/panel/1.6.1/dist/bundled/theme/native.css\"}}],\"min_width\":800,\"margin\":0,\"sizing_mode\":\"stretch_width\",\"align\":\"start\",\"children\":[{\"type\":\"object\",\"name\":\"Spacer\",\"id\":\"a63105e6-8b0d-4497-96a8-00418b725578\",\"attributes\":{\"name\":\"HSpacer00522\",\"stylesheets\":[\"\\n:host(.pn-loading):before, .pn-loading:before {\\n  background-color: #c3c3c3;\\n  mask-size: auto calc(min(50%, 400px));\\n  -webkit-mask-size: auto calc(min(50%, 400px));\\n}\",{\"id\":\"6b9a7425-f6ae-45fb-9d18-9667fe322a0e\"},{\"id\":\"74511800-d979-4cde-bffe-a58b7dbfc253\"},{\"id\":\"b24e265e-bd42-4fed-b4b2-64d04e9095b7\"}],\"margin\":0,\"sizing_mode\":\"stretch_width\",\"align\":\"start\"}},{\"type\":\"object\",\"name\":\"Figure\",\"id\":\"ba63a568-9dd1-44a6-bf43-22c0ed3c9976\",\"attributes\":{\"width\":800,\"height\":400,\"margin\":[5,10],\"sizing_mode\":\"fixed\",\"align\":\"start\",\"x_range\":{\"type\":\"object\",\"name\":\"Range1d\",\"id\":\"8d23083e-7a56-4591-9187-93501c2fc712\",\"attributes\":{\"name\":\"x\",\"tags\":[[[\"x\",null]],[]],\"start\":63.1,\"end\":126.9,\"reset_start\":63.1,\"reset_end\":126.9}},\"y_range\":{\"type\":\"object\",\"name\":\"Range1d\",\"id\":\"93d11c26-37ba-4f65-83ce-89820e889d6f\",\"attributes\":{\"name\":\"Frequency\",\"tags\":[[[\"Frequency\",null]],{\"type\":\"map\",\"entries\":[[\"invert_yaxis\",false],[\"autorange\",false]]}],\"end\":27.5,\"reset_start\":0.0,\"reset_end\":27.5}},\"x_scale\":{\"type\":\"object\",\"name\":\"LinearScale\",\"id\":\"c5680683-b255-4d19-93c9-628961307d68\"},\"y_scale\":{\"type\":\"object\",\"name\":\"LinearScale\",\"id\":\"af773dcc-e41b-4a10-a5a1-4a315a28c0b1\"},\"title\":{\"type\":\"object\",\"name\":\"Title\",\"id\":\"9683ef4d-57f4-4058-91d6-14e4b07514bd\",\"attributes\":{\"text\":\"Histogram of Glucose for Female Patients\",\"text_color\":\"black\",\"text_font_size\":\"12pt\"}},\"renderers\":[{\"type\":\"object\",\"name\":\"GlyphRenderer\",\"id\":\"621b223e-0d10-45d3-9594-2f4eb11c3a4c\",\"attributes\":{\"data_source\":{\"type\":\"object\",\"name\":\"ColumnDataSource\",\"id\":\"747bc848-5a8e-4550-b227-95f3e50f7d0c\",\"attributes\":{\"selected\":{\"type\":\"object\",\"name\":\"Selection\",\"id\":\"b010583b-b89f-4297-a4c9-e3bb13df760d\",\"attributes\":{\"indices\":[],\"line_indices\":[]}},\"selection_policy\":{\"type\":\"object\",\"name\":\"UnionRenderers\",\"id\":\"e4c964a2-c1d6-4195-af48-21cbabd90fd4\"},\"data\":{\"type\":\"map\",\"entries\":[[\"top\",{\"type\":\"ndarray\",\"array\":{\"type\":\"bytes\",\"data\":\"AgAAAAEAAAADAAAABwAAAAgAAAARAAAADQAAABYAAAAZAAAADwAAABkAAAARAAAADgAAAAkAAAALAAAACAAAAAQAAAACAAAAAAAAAAQAAAA=\"},\"shape\":[20],\"dtype\":\"int32\",\"order\":\"little\"}],[\"left\",{\"type\":\"ndarray\",\"array\":{\"type\":\"bytes\",\"data\":\"AAAAAACAUECamZmZmTlRQDMzMzMz81FAzczMzMysUkBmZmZmZmZTQAAAAAAAIFRAmpmZmZnZVEAzMzMzM5NVQM3MzMzMTFZAZmZmZmYGV0AAAAAAAMBXQJqZmZmZeVhAMzMzMzMzWUDMzMzMzOxZQGZmZmZmplpAAAAAAABgW0CamZmZmRlcQDMzMzMz01xAzMzMzMyMXUBmZmZmZkZeQA==\"},\"shape\":[20],\"dtype\":\"float64\",\"order\":\"little\"}],[\"right\",{\"type\":\"ndarray\",\"array\":{\"type\":\"bytes\",\"data\":\"mpmZmZk5UUAzMzMzM/NRQM3MzMzMrFJAZmZmZmZmU0AAAAAAACBUQJqZmZmZ2VRAMzMzMzOTVUDNzMzMzExWQGZmZmZmBldAAAAAAADAV0CamZmZmXlYQDMzMzMzM1lAzMzMzMzsWUBmZmZmZqZaQAAAAAAAYFtAmpmZmZkZXEAzMzMzM9NcQMzMzMzMjF1AZmZmZmZGXkAAAAAAAABfQA==\"},\"shape\":[20],\"dtype\":\"float64\",\"order\":\"little\"}]]}}},\"view\":{\"type\":\"object\",\"name\":\"CDSView\",\"id\":\"c0cc88f9-753f-4b6f-842c-cef9c3dedb79\",\"attributes\":{\"filter\":{\"type\":\"object\",\"name\":\"AllIndices\",\"id\":\"29a1a3df-dd78-4ac0-af6c-16a1edb20db8\"}}},\"glyph\":{\"type\":\"object\",\"name\":\"Quad\",\"id\":\"70c72455-113b-402e-8d81-5856025c0047\",\"attributes\":{\"tags\":[\"apply_ranges\"],\"left\":{\"type\":\"field\",\"field\":\"left\"},\"right\":{\"type\":\"field\",\"field\":\"right\"},\"bottom\":{\"type\":\"value\",\"value\":0},\"top\":{\"type\":\"field\",\"field\":\"top\"},\"line_alpha\":{\"type\":\"value\",\"value\":0.9},\"fill_color\":{\"type\":\"value\",\"value\":\"#30a2da\"},\"fill_alpha\":{\"type\":\"value\",\"value\":0.9},\"hatch_color\":{\"type\":\"value\",\"value\":\"#30a2da\"},\"hatch_alpha\":{\"type\":\"value\",\"value\":0.9}}},\"selection_glyph\":{\"type\":\"object\",\"name\":\"Quad\",\"id\":\"6920f8b8-44af-493b-8e75-7c34cc4dd62e\",\"attributes\":{\"tags\":[\"apply_ranges\"],\"left\":{\"type\":\"field\",\"field\":\"left\"},\"right\":{\"type\":\"field\",\"field\":\"right\"},\"bottom\":{\"type\":\"value\",\"value\":0},\"top\":{\"type\":\"field\",\"field\":\"top\"},\"line_color\":{\"type\":\"value\",\"value\":\"black\"},\"line_alpha\":{\"type\":\"value\",\"value\":0.9},\"line_width\":{\"type\":\"value\",\"value\":1},\"line_join\":{\"type\":\"value\",\"value\":\"bevel\"},\"line_cap\":{\"type\":\"value\",\"value\":\"butt\"},\"line_dash\":{\"type\":\"value\",\"value\":[]},\"line_dash_offset\":{\"type\":\"value\",\"value\":0},\"fill_color\":{\"type\":\"value\",\"value\":\"#30a2da\"},\"fill_alpha\":{\"type\":\"value\",\"value\":0.9},\"hatch_color\":{\"type\":\"value\",\"value\":\"#30a2da\"},\"hatch_alpha\":{\"type\":\"value\",\"value\":0.9},\"hatch_scale\":{\"type\":\"value\",\"value\":12.0},\"hatch_pattern\":{\"type\":\"value\",\"value\":null},\"hatch_weight\":{\"type\":\"value\",\"value\":1.0}}},\"nonselection_glyph\":{\"type\":\"object\",\"name\":\"Quad\",\"id\":\"27c4e5f4-080a-4e07-9da3-bbfa4a58f0fe\",\"attributes\":{\"tags\":[\"apply_ranges\"],\"left\":{\"type\":\"field\",\"field\":\"left\"},\"right\":{\"type\":\"field\",\"field\":\"right\"},\"bottom\":{\"type\":\"value\",\"value\":0},\"top\":{\"type\":\"field\",\"field\":\"top\"},\"line_alpha\":{\"type\":\"value\",\"value\":0.9},\"fill_color\":{\"type\":\"value\",\"value\":\"#30a2da\"},\"fill_alpha\":{\"type\":\"value\",\"value\":0.9},\"hatch_color\":{\"type\":\"value\",\"value\":\"#30a2da\"},\"hatch_alpha\":{\"type\":\"value\",\"value\":0.1}}},\"muted_glyph\":{\"type\":\"object\",\"name\":\"Quad\",\"id\":\"101381a9-2a95-4b26-b94d-9dafef23b174\",\"attributes\":{\"tags\":[\"apply_ranges\"],\"left\":{\"type\":\"field\",\"field\":\"left\"},\"right\":{\"type\":\"field\",\"field\":\"right\"},\"bottom\":{\"type\":\"value\",\"value\":0},\"top\":{\"type\":\"field\",\"field\":\"top\"},\"line_alpha\":{\"type\":\"value\",\"value\":0.2},\"fill_color\":{\"type\":\"value\",\"value\":\"#30a2da\"},\"fill_alpha\":{\"type\":\"value\",\"value\":0.2},\"hatch_color\":{\"type\":\"value\",\"value\":\"#30a2da\"},\"hatch_alpha\":{\"type\":\"value\",\"value\":0.2}}}}}],\"toolbar\":{\"type\":\"object\",\"name\":\"Toolbar\",\"id\":\"4ba1e84a-c4ea-4f90-843f-a6107bb2c9a6\",\"attributes\":{\"tools\":[{\"type\":\"object\",\"name\":\"WheelZoomTool\",\"id\":\"8e2b53fa-4627-4082-b89b-7c6d41c324e5\",\"attributes\":{\"tags\":[\"hv_created\"],\"renderers\":\"auto\",\"zoom_together\":\"none\"}},{\"type\":\"object\",\"name\":\"SaveTool\",\"id\":\"0ee698fe-0757-41db-9985-4ccdf391fae9\"},{\"type\":\"object\",\"name\":\"PanTool\",\"id\":\"6a909b66-1f86-4840-916e-316c02e0cd0e\"},{\"type\":\"object\",\"name\":\"BoxZoomTool\",\"id\":\"6f413784-4c35-4f7c-8096-ad4807299323\",\"attributes\":{\"overlay\":{\"type\":\"object\",\"name\":\"BoxAnnotation\",\"id\":\"f7098976-7047-4078-9852-a6df9f36d279\",\"attributes\":{\"syncable\":false,\"line_color\":\"black\",\"line_alpha\":1.0,\"line_width\":2,\"line_dash\":[4,4],\"fill_color\":\"lightgrey\",\"fill_alpha\":0.5,\"level\":\"overlay\",\"visible\":false,\"left\":{\"type\":\"number\",\"value\":\"nan\"},\"right\":{\"type\":\"number\",\"value\":\"nan\"},\"top\":{\"type\":\"number\",\"value\":\"nan\"},\"bottom\":{\"type\":\"number\",\"value\":\"nan\"},\"left_units\":\"canvas\",\"right_units\":\"canvas\",\"top_units\":\"canvas\",\"bottom_units\":\"canvas\",\"handles\":{\"type\":\"object\",\"name\":\"BoxInteractionHandles\",\"id\":\"27ddfb21-ff4a-4630-80d3-06bf862a0654\",\"attributes\":{\"all\":{\"type\":\"object\",\"name\":\"AreaVisuals\",\"id\":\"b306eb7c-49d2-4b64-b89b-4427427e3007\",\"attributes\":{\"fill_color\":\"white\",\"hover_fill_color\":\"lightgray\"}}}}}}}},{\"type\":\"object\",\"name\":\"ResetTool\",\"id\":\"6352af6f-0f01-4034-a658-e0509671cced\"}],\"active_drag\":{\"id\":\"6a909b66-1f86-4840-916e-316c02e0cd0e\"},\"active_scroll\":{\"id\":\"8e2b53fa-4627-4082-b89b-7c6d41c324e5\"}}},\"left\":[{\"type\":\"object\",\"name\":\"LinearAxis\",\"id\":\"2b1ab89c-9876-417a-aa8d-cd5b1e510b8e\",\"attributes\":{\"ticker\":{\"type\":\"object\",\"name\":\"BasicTicker\",\"id\":\"f84691fd-4658-4a61-990e-372c25429ac0\",\"attributes\":{\"mantissas\":[1,2,5]}},\"formatter\":{\"type\":\"object\",\"name\":\"BasicTickFormatter\",\"id\":\"5f4cda25-3c44-402d-9589-ec7acfe5ee61\"},\"axis_label\":\"Frequency\",\"major_label_policy\":{\"type\":\"object\",\"name\":\"AllLabels\",\"id\":\"4bb9b7e2-66f6-40d4-bc28-714e57aa16e2\"}}}],\"below\":[{\"type\":\"object\",\"name\":\"LinearAxis\",\"id\":\"dd2b895c-1888-4d40-8a33-4cc9de0fbfb1\",\"attributes\":{\"ticker\":{\"type\":\"object\",\"name\":\"BasicTicker\",\"id\":\"85b647b4-8e93-4b75-b05d-7aaf9a1e3ac5\",\"attributes\":{\"mantissas\":[1,2,5]}},\"formatter\":{\"type\":\"object\",\"name\":\"BasicTickFormatter\",\"id\":\"aa247271-8c73-4ea6-bdfa-bd06d4e01dc4\"},\"axis_label\":\"Glucose\",\"major_label_policy\":{\"type\":\"object\",\"name\":\"AllLabels\",\"id\":\"bc0f5ac2-6b5d-481f-aa5d-62be4be240c9\"}}}],\"center\":[{\"type\":\"object\",\"name\":\"Grid\",\"id\":\"e5ec6c79-445d-4ab3-a98f-28e032f018fc\",\"attributes\":{\"axis\":{\"id\":\"dd2b895c-1888-4d40-8a33-4cc9de0fbfb1\"},\"grid_line_color\":null}},{\"type\":\"object\",\"name\":\"Grid\",\"id\":\"e12b13be-7778-4258-aa51-5e24108f5768\",\"attributes\":{\"dimension\":1,\"axis\":{\"id\":\"2b1ab89c-9876-417a-aa8d-cd5b1e510b8e\"},\"grid_line_color\":null}}],\"min_border_top\":10,\"min_border_bottom\":10,\"min_border_left\":10,\"min_border_right\":10,\"output_backend\":\"webgl\"}},{\"type\":\"object\",\"name\":\"Spacer\",\"id\":\"71e98f9b-719c-49cc-8fac-b5196ab2ffd5\",\"attributes\":{\"name\":\"HSpacer00523\",\"stylesheets\":[\"\\n:host(.pn-loading):before, .pn-loading:before {\\n  background-color: #c3c3c3;\\n  mask-size: auto calc(min(50%, 400px));\\n  -webkit-mask-size: auto calc(min(50%, 400px));\\n}\",{\"id\":\"6b9a7425-f6ae-45fb-9d18-9667fe322a0e\"},{\"id\":\"74511800-d979-4cde-bffe-a58b7dbfc253\"},{\"id\":\"b24e265e-bd42-4fed-b4b2-64d04e9095b7\"}],\"margin\":0,\"sizing_mode\":\"stretch_width\",\"align\":\"start\"}}]}}],\"defs\":[{\"type\":\"model\",\"name\":\"ReactiveHTML1\"},{\"type\":\"model\",\"name\":\"FlexBox1\",\"properties\":[{\"name\":\"align_content\",\"kind\":\"Any\",\"default\":\"flex-start\"},{\"name\":\"align_items\",\"kind\":\"Any\",\"default\":\"flex-start\"},{\"name\":\"flex_direction\",\"kind\":\"Any\",\"default\":\"row\"},{\"name\":\"flex_wrap\",\"kind\":\"Any\",\"default\":\"wrap\"},{\"name\":\"gap\",\"kind\":\"Any\",\"default\":\"\"},{\"name\":\"justify_content\",\"kind\":\"Any\",\"default\":\"flex-start\"}]},{\"type\":\"model\",\"name\":\"FloatPanel1\",\"properties\":[{\"name\":\"config\",\"kind\":\"Any\",\"default\":{\"type\":\"map\"}},{\"name\":\"contained\",\"kind\":\"Any\",\"default\":true},{\"name\":\"position\",\"kind\":\"Any\",\"default\":\"right-top\"},{\"name\":\"offsetx\",\"kind\":\"Any\",\"default\":null},{\"name\":\"offsety\",\"kind\":\"Any\",\"default\":null},{\"name\":\"theme\",\"kind\":\"Any\",\"default\":\"primary\"},{\"name\":\"status\",\"kind\":\"Any\",\"default\":\"normalized\"}]},{\"type\":\"model\",\"name\":\"GridStack1\",\"properties\":[{\"name\":\"mode\",\"kind\":\"Any\",\"default\":\"warn\"},{\"name\":\"ncols\",\"kind\":\"Any\",\"default\":null},{\"name\":\"nrows\",\"kind\":\"Any\",\"default\":null},{\"name\":\"allow_resize\",\"kind\":\"Any\",\"default\":true},{\"name\":\"allow_drag\",\"kind\":\"Any\",\"default\":true},{\"name\":\"state\",\"kind\":\"Any\",\"default\":[]}]},{\"type\":\"model\",\"name\":\"drag1\",\"properties\":[{\"name\":\"slider_width\",\"kind\":\"Any\",\"default\":5},{\"name\":\"slider_color\",\"kind\":\"Any\",\"default\":\"black\"},{\"name\":\"value\",\"kind\":\"Any\",\"default\":50}]},{\"type\":\"model\",\"name\":\"click1\",\"properties\":[{\"name\":\"terminal_output\",\"kind\":\"Any\",\"default\":\"\"},{\"name\":\"debug_name\",\"kind\":\"Any\",\"default\":\"\"},{\"name\":\"clears\",\"kind\":\"Any\",\"default\":0}]},{\"type\":\"model\",\"name\":\"FastWrapper1\",\"properties\":[{\"name\":\"object\",\"kind\":\"Any\",\"default\":null},{\"name\":\"style\",\"kind\":\"Any\",\"default\":null}]},{\"type\":\"model\",\"name\":\"NotificationAreaBase1\",\"properties\":[{\"name\":\"js_events\",\"kind\":\"Any\",\"default\":{\"type\":\"map\"}},{\"name\":\"position\",\"kind\":\"Any\",\"default\":\"bottom-right\"},{\"name\":\"_clear\",\"kind\":\"Any\",\"default\":0}]},{\"type\":\"model\",\"name\":\"NotificationArea1\",\"properties\":[{\"name\":\"js_events\",\"kind\":\"Any\",\"default\":{\"type\":\"map\"}},{\"name\":\"notifications\",\"kind\":\"Any\",\"default\":[]},{\"name\":\"position\",\"kind\":\"Any\",\"default\":\"bottom-right\"},{\"name\":\"_clear\",\"kind\":\"Any\",\"default\":0},{\"name\":\"types\",\"kind\":\"Any\",\"default\":[{\"type\":\"map\",\"entries\":[[\"type\",\"warning\"],[\"background\",\"#ffc107\"],[\"icon\",{\"type\":\"map\",\"entries\":[[\"className\",\"fas fa-exclamation-triangle\"],[\"tagName\",\"i\"],[\"color\",\"white\"]]}]]},{\"type\":\"map\",\"entries\":[[\"type\",\"info\"],[\"background\",\"#007bff\"],[\"icon\",{\"type\":\"map\",\"entries\":[[\"className\",\"fas fa-info-circle\"],[\"tagName\",\"i\"],[\"color\",\"white\"]]}]]}]}]},{\"type\":\"model\",\"name\":\"Notification\",\"properties\":[{\"name\":\"background\",\"kind\":\"Any\",\"default\":null},{\"name\":\"duration\",\"kind\":\"Any\",\"default\":3000},{\"name\":\"icon\",\"kind\":\"Any\",\"default\":null},{\"name\":\"message\",\"kind\":\"Any\",\"default\":\"\"},{\"name\":\"notification_type\",\"kind\":\"Any\",\"default\":null},{\"name\":\"_rendered\",\"kind\":\"Any\",\"default\":false},{\"name\":\"_destroyed\",\"kind\":\"Any\",\"default\":false}]},{\"type\":\"model\",\"name\":\"TemplateActions1\",\"properties\":[{\"name\":\"open_modal\",\"kind\":\"Any\",\"default\":0},{\"name\":\"close_modal\",\"kind\":\"Any\",\"default\":0}]},{\"type\":\"model\",\"name\":\"BootstrapTemplateActions1\",\"properties\":[{\"name\":\"open_modal\",\"kind\":\"Any\",\"default\":0},{\"name\":\"close_modal\",\"kind\":\"Any\",\"default\":0}]},{\"type\":\"model\",\"name\":\"TemplateEditor1\",\"properties\":[{\"name\":\"layout\",\"kind\":\"Any\",\"default\":[]}]},{\"type\":\"model\",\"name\":\"MaterialTemplateActions1\",\"properties\":[{\"name\":\"open_modal\",\"kind\":\"Any\",\"default\":0},{\"name\":\"close_modal\",\"kind\":\"Any\",\"default\":0}]},{\"type\":\"model\",\"name\":\"ReactiveESM1\",\"properties\":[{\"name\":\"esm_constants\",\"kind\":\"Any\",\"default\":{\"type\":\"map\"}}]},{\"type\":\"model\",\"name\":\"JSComponent1\",\"properties\":[{\"name\":\"esm_constants\",\"kind\":\"Any\",\"default\":{\"type\":\"map\"}}]},{\"type\":\"model\",\"name\":\"ReactComponent1\",\"properties\":[{\"name\":\"esm_constants\",\"kind\":\"Any\",\"default\":{\"type\":\"map\"}}]},{\"type\":\"model\",\"name\":\"AnyWidgetComponent1\",\"properties\":[{\"name\":\"esm_constants\",\"kind\":\"Any\",\"default\":{\"type\":\"map\"}}]},{\"type\":\"model\",\"name\":\"request_value1\",\"properties\":[{\"name\":\"fill\",\"kind\":\"Any\",\"default\":\"none\"},{\"name\":\"_synced\",\"kind\":\"Any\",\"default\":null},{\"name\":\"_request_sync\",\"kind\":\"Any\",\"default\":0}]}]}};\n",
       "  var render_items = [{\"docid\":\"b4f50aa8-8764-4cbf-aa9e-87175aff7ece\",\"roots\":{\"561b52f1-5822-4364-89e3-e0b34dbc5577\":\"e568ae14-3e2c-47e3-a25b-327270b306bf\"},\"root_ids\":[\"561b52f1-5822-4364-89e3-e0b34dbc5577\"]}];\n",
       "  var docs = Object.values(docs_json)\n",
       "  if (!docs) {\n",
       "    return\n",
       "  }\n",
       "  const py_version = docs[0].version.replace('rc', '-rc.').replace('.dev', '-dev.')\n",
       "  async function embed_document(root) {\n",
       "    var Bokeh = get_bokeh(root)\n",
       "    await Bokeh.embed.embed_items_notebook(docs_json, render_items);\n",
       "    for (const render_item of render_items) {\n",
       "      for (const root_id of render_item.root_ids) {\n",
       "\tconst id_el = document.getElementById(root_id)\n",
       "\tif (id_el.children.length && id_el.children[0].hasAttribute('data-root-id')) {\n",
       "\t  const root_el = id_el.children[0]\n",
       "\t  root_el.id = root_el.id + '-rendered'\n",
       "\t  for (const child of root_el.children) {\n",
       "            // Ensure JupyterLab does not capture keyboard shortcuts\n",
       "            // see: https://jupyterlab.readthedocs.io/en/4.1.x/extension/notebook.html#keyboard-interaction-model\n",
       "\t    child.setAttribute('data-lm-suppress-shortcuts', 'true')\n",
       "\t  }\n",
       "\t}\n",
       "      }\n",
       "    }\n",
       "  }\n",
       "  function get_bokeh(root) {\n",
       "    if (root.Bokeh === undefined) {\n",
       "      return null\n",
       "    } else if (root.Bokeh.version !== py_version) {\n",
       "      if (root.Bokeh.versions === undefined || !root.Bokeh.versions.has(py_version)) {\n",
       "\treturn null\n",
       "      }\n",
       "      return root.Bokeh.versions.get(py_version);\n",
       "    } else if (root.Bokeh.version === py_version) {\n",
       "      return root.Bokeh\n",
       "    }\n",
       "    return null\n",
       "  }\n",
       "  function is_loaded(root) {\n",
       "    var Bokeh = get_bokeh(root)\n",
       "    return (Bokeh != null && Bokeh.Panel !== undefined)\n",
       "  }\n",
       "  if (is_loaded(root)) {\n",
       "    embed_document(root);\n",
       "  } else {\n",
       "    var attempts = 0;\n",
       "    var timer = setInterval(function(root) {\n",
       "      if (is_loaded(root)) {\n",
       "        clearInterval(timer);\n",
       "        embed_document(root);\n",
       "      } else if (document.readyState == \"complete\") {\n",
       "        attempts++;\n",
       "        if (attempts > 200) {\n",
       "          clearInterval(timer);\n",
       "\t  var Bokeh = get_bokeh(root)\n",
       "\t  if (Bokeh == null || Bokeh.Panel == null) {\n",
       "            console.warn(\"Panel: ERROR: Unable to run Panel code because Bokeh or Panel library is missing\");\n",
       "\t  } else {\n",
       "\t    console.warn(\"Panel: WARNING: Attempting to render but not all required libraries could be resolved.\")\n",
       "\t    embed_document(root)\n",
       "\t  }\n",
       "        }\n",
       "      }\n",
       "    }, 25, root)\n",
       "  }\n",
       "})(window);</script>"
      ],
      "text/plain": [
       ":Histogram   [x]   (Frequency)"
      ]
     },
     "execution_count": 29,
     "metadata": {
      "application/vnd.holoviews_exec.v0+json": {
       "id": "561b52f1-5822-4364-89e3-e0b34dbc5577"
      }
     },
     "output_type": "execute_result"
    }
   ],
   "source": [
    "import holoviews as hv\n",
    "from holoviews import opts\n",
    "\n",
    "# Create histogram using holoviews\n",
    "hist = hv.Histogram(np.histogram(female_patients['Glucose'], bins=20)).opts(alpha=0.9, width=800, height=400, title='Histogram of Glucose for Female Patients', xlabel='Glucose', ylabel='Frequency')\n",
    "\n",
    "hist\n"
   ]
  },
  {
   "cell_type": "markdown",
   "id": "d4c7f3d3",
   "metadata": {},
   "source": [
    "&#9989; **Question 3.4 (3 points):** We want to analyze the correlations between AGE, BMI, LD_lipo, triglycerides, and Glucose for male and female patients. A quick way is to make a scatter matrix plot. Make a new dataframe by extract SEX, AGE, BMI, LD_lipo, triglycerides, and Glucose from the original dataframe. Make a scatter matrix plot using holoviews and use two different marker colors distiguish the data points of male and female patients. \n"
   ]
  },
  {
   "cell_type": "code",
   "execution_count": 30,
   "id": "b6dc5057",
   "metadata": {},
   "outputs": [
    {
     "data": {
      "text/html": [
       "<div>\n",
       "<style scoped>\n",
       "    .dataframe tbody tr th:only-of-type {\n",
       "        vertical-align: middle;\n",
       "    }\n",
       "\n",
       "    .dataframe tbody tr th {\n",
       "        vertical-align: top;\n",
       "    }\n",
       "\n",
       "    .dataframe thead th {\n",
       "        text-align: right;\n",
       "    }\n",
       "</style>\n",
       "<table border=\"1\" class=\"dataframe\">\n",
       "  <thead>\n",
       "    <tr style=\"text-align: right;\">\n",
       "      <th></th>\n",
       "      <th>SEX</th>\n",
       "      <th>AGE</th>\n",
       "      <th>BMI</th>\n",
       "      <th>LD_lipo</th>\n",
       "      <th>triglycerides</th>\n",
       "      <th>Glucose</th>\n",
       "    </tr>\n",
       "  </thead>\n",
       "  <tbody>\n",
       "    <tr>\n",
       "      <th>0</th>\n",
       "      <td>2</td>\n",
       "      <td>59</td>\n",
       "      <td>32.1</td>\n",
       "      <td>93.2</td>\n",
       "      <td>4.8598</td>\n",
       "      <td>87</td>\n",
       "    </tr>\n",
       "    <tr>\n",
       "      <th>1</th>\n",
       "      <td>1</td>\n",
       "      <td>48</td>\n",
       "      <td>21.6</td>\n",
       "      <td>103.2</td>\n",
       "      <td>3.8918</td>\n",
       "      <td>69</td>\n",
       "    </tr>\n",
       "    <tr>\n",
       "      <th>2</th>\n",
       "      <td>2</td>\n",
       "      <td>72</td>\n",
       "      <td>30.5</td>\n",
       "      <td>93.6</td>\n",
       "      <td>4.6728</td>\n",
       "      <td>85</td>\n",
       "    </tr>\n",
       "    <tr>\n",
       "      <th>3</th>\n",
       "      <td>1</td>\n",
       "      <td>24</td>\n",
       "      <td>25.3</td>\n",
       "      <td>131.4</td>\n",
       "      <td>4.8903</td>\n",
       "      <td>89</td>\n",
       "    </tr>\n",
       "    <tr>\n",
       "      <th>4</th>\n",
       "      <td>1</td>\n",
       "      <td>50</td>\n",
       "      <td>23.0</td>\n",
       "      <td>125.4</td>\n",
       "      <td>4.2905</td>\n",
       "      <td>80</td>\n",
       "    </tr>\n",
       "  </tbody>\n",
       "</table>\n",
       "</div>"
      ],
      "text/plain": [
       "   SEX  AGE   BMI  LD_lipo  triglycerides  Glucose\n",
       "0    2   59  32.1     93.2         4.8598       87\n",
       "1    1   48  21.6    103.2         3.8918       69\n",
       "2    2   72  30.5     93.6         4.6728       85\n",
       "3    1   24  25.3    131.4         4.8903       89\n",
       "4    1   50  23.0    125.4         4.2905       80"
      ]
     },
     "execution_count": 30,
     "metadata": {},
     "output_type": "execute_result"
    }
   ],
   "source": [
    "# Extract the specified columns\n",
    "extracted_data = diaPatients[['SEX', 'AGE', 'BMI', 'LD_lipo', 'triglycerides', 'Glucose']]\n",
    "extracted_data.head()\n"
   ]
  },
  {
   "cell_type": "code",
   "execution_count": null,
   "id": "4cacdccc",
   "metadata": {},
   "outputs": [],
   "source": []
  },
  {
   "cell_type": "markdown",
   "id": "3290a32a-af5d-4cb1-9c80-60b924643844",
   "metadata": {},
   "source": [
    "&#9989; **Do this**: **Leave the source of Gen AI here if you used any in Part 3.**\n"
   ]
  },
  {
   "cell_type": "markdown",
   "id": "a16b11a7",
   "metadata": {},
   "source": [
    "```\n",
    "Used CoPilot to make histogram because the documentation wasn't working. \n",
    "Prompt: How can I make a histogram using holoviews?\n",
    "```"
   ]
  },
  {
   "cell_type": "markdown",
   "id": "d381baf7",
   "metadata": {
    "jp-MarkdownHeadingCollapsed": true,
    "tags": []
   },
   "source": [
    "---\n",
    "### &#128721; STOP (1 point)\n",
    "**Pause to commit your changes to your Git repository!**\n",
    "\n",
    "Take a moment to save your notebook, commit  and push the changes to your Git repository.\n",
    "\n",
    "---"
   ]
  },
  {
   "cell_type": "markdown",
   "id": "07d450c5",
   "metadata": {},
   "source": [
    "## Part 4: Writing a simple Python class (14 points)\n",
    "\n",
    "For this question, you are asked to create two classes: customer and account.\n",
    "\n",
    "### First, download the ledger.\n",
    "\n",
    "&#9989; **4.0 (1 pt):** Download the csv file from\n",
    "`https://raw.githubusercontent.com/huichiayu/cmse_202_802/main/data/Ledger.csv`\n",
    "\n",
    "Use Pandas to import the data and show what information is in the data."
   ]
  },
  {
   "cell_type": "code",
   "execution_count": 39,
   "id": "bd793d90-1931-4400-abd1-1bb2312a5cd7",
   "metadata": {},
   "outputs": [
    {
     "data": {
      "text/html": [
       "<div>\n",
       "<style scoped>\n",
       "    .dataframe tbody tr th:only-of-type {\n",
       "        vertical-align: middle;\n",
       "    }\n",
       "\n",
       "    .dataframe tbody tr th {\n",
       "        vertical-align: top;\n",
       "    }\n",
       "\n",
       "    .dataframe thead th {\n",
       "        text-align: right;\n",
       "    }\n",
       "</style>\n",
       "<table border=\"1\" class=\"dataframe\">\n",
       "  <thead>\n",
       "    <tr style=\"text-align: right;\">\n",
       "      <th></th>\n",
       "      <th>Name</th>\n",
       "      <th>Sex</th>\n",
       "      <th>Account_number</th>\n",
       "      <th>Balance</th>\n",
       "      <th>Email</th>\n",
       "    </tr>\n",
       "  </thead>\n",
       "  <tbody>\n",
       "    <tr>\n",
       "      <th>0</th>\n",
       "      <td>Joel</td>\n",
       "      <td>M</td>\n",
       "      <td>225671</td>\n",
       "      <td>101000</td>\n",
       "      <td>joeml@boston.edu</td>\n",
       "    </tr>\n",
       "    <tr>\n",
       "      <th>1</th>\n",
       "      <td>Elli</td>\n",
       "      <td>F</td>\n",
       "      <td>437689</td>\n",
       "      <td>200</td>\n",
       "      <td>el@acad.edu</td>\n",
       "    </tr>\n",
       "    <tr>\n",
       "      <th>2</th>\n",
       "      <td>Tess</td>\n",
       "      <td>F</td>\n",
       "      <td>789451</td>\n",
       "      <td>400</td>\n",
       "      <td>sates@xf.com</td>\n",
       "    </tr>\n",
       "    <tr>\n",
       "      <th>3</th>\n",
       "      <td>Bill</td>\n",
       "      <td>M</td>\n",
       "      <td>327815</td>\n",
       "      <td>2300</td>\n",
       "      <td>wills@tmb.com</td>\n",
       "    </tr>\n",
       "    <tr>\n",
       "      <th>4</th>\n",
       "      <td>Henry</td>\n",
       "      <td>M</td>\n",
       "      <td>278432</td>\n",
       "      <td>6780</td>\n",
       "      <td>henpi@mc.com</td>\n",
       "    </tr>\n",
       "  </tbody>\n",
       "</table>\n",
       "</div>"
      ],
      "text/plain": [
       "    Name Sex  Account_number  Balance             Email\n",
       "0   Joel   M          225671   101000  joeml@boston.edu\n",
       "1   Elli   F          437689      200       el@acad.edu\n",
       "2   Tess   F          789451      400      sates@xf.com\n",
       "3   Bill   M          327815     2300     wills@tmb.com\n",
       "4  Henry   M          278432     6780      henpi@mc.com"
      ]
     },
     "execution_count": 39,
     "metadata": {},
     "output_type": "execute_result"
    }
   ],
   "source": [
    "ledger = pd.read_csv('ledger.csv')\n",
    "\n",
    "# Display the first few rows of the dataframe\n",
    "ledger.head()"
   ]
  },
  {
   "cell_type": "markdown",
   "id": "8c264b75",
   "metadata": {},
   "source": [
    "&#9989; **Question 4.1 (7 points):** \n",
    "\n",
    "### Build the account class\n",
    "This account class will contain53 attributes (number, owner, balance, sex, and email), and a total of 10 methods. Below is a half-baked account class. Complete the class code accorrding to the descritpions in the relevant DocString. \n"
   ]
  },
  {
   "cell_type": "code",
   "execution_count": 41,
   "id": "0c7c0e8c",
   "metadata": {},
   "outputs": [],
   "source": [
    "### Complete this class\n",
    "\n",
    "class account():\n",
    "    \n",
    "    def __init__(self, number, owner, balance = 0.0):\n",
    "        \"\"\"Initialize the attributes of the class.\n",
    "        \n",
    "        Parameters\n",
    "        ----------\n",
    "        number : string \n",
    "            Account number.\n",
    "        \n",
    "        owner : string\n",
    "            Account owner's name \n",
    "        \n",
    "        amount: float\n",
    "            Balance amount of money in the account.\n",
    "\n",
    "        customer_sex: string\n",
    "            account owner's sex\n",
    "\n",
    "        customer_email: string\n",
    "            account owner's email address            \n",
    "\n",
    "        Methods\n",
    "        ----------\n",
    "        get_acct_owner:\n",
    "            Returns the name of account owner.\n",
    "            \n",
    "        get_acct_balance:\n",
    "            Returns the balance in the account\n",
    "            \n",
    "        get_acct_number:\n",
    "            Returns the acocunt number\n",
    "\n",
    "        set_acct_owner_sex:\n",
    "            set account onwer's sex\n",
    "\n",
    "        get_acct_owner_sex:\n",
    "            get account onwer's sex\n",
    "\n",
    "        set_acct_owner_eamil:\n",
    "            set account onwer's email address\n",
    "\n",
    "        get_acct_owner_eamil:\n",
    "            Return account onwer's email address\n",
    "\n",
    "        deposit:\n",
    "            Deposit money to the account by adding to the balance\n",
    "\n",
    "        withdraw:\n",
    "            Remove money from the account by subtracting from the balance\n",
    "        \n",
    "        transfer_to:\n",
    "            Transfer money to another account\n",
    "        \n",
    "        \n",
    "        \"\"\"\n",
    "        self.number = number\n",
    "        self.owner = owner\n",
    "        self.balance = balance\n",
    "        self.sex = ''\n",
    "        self.email = '' \n",
    "        \n",
    "        \n",
    "    def get_acct_owner(self):\n",
    "        \"\"\"Returns the name of account owner.\"\"\"\n",
    "        return self.owner\n",
    "  \n",
    "    def get_acct_balance(self):\n",
    "        \"\"\"Returns the balance in the account.\"\"\"\n",
    "        return self.balance\n",
    " \n",
    "    \n",
    "    def get_acct_number(self):\n",
    "        \"\"\"Returns the number of the account.\"\"\"\n",
    "        return self.number\n",
    "\n",
    "    \n",
    "    def set_acct_owner_sex(self,customer_sex):\n",
    "        \"\"\"set account onwer's sex\"\"\"\n",
    "        self.sex = customer_sex\n",
    "\n",
    "    def get_acct_owner_sex(self):\n",
    "        \"\"\"get account onwer's sex\"\"\"\n",
    "        return self.sex\n",
    "\n",
    "    def set_acct_owner_eamil(self,customer_email):\n",
    "        \"\"\"set account onwer's email address\"\"\"\n",
    "        self.email = customer_email\n",
    "\n",
    "    def get_acct_owner_eamil(self):\n",
    "        \"\"\"Return account onwer's email address\"\"\"\n",
    "        return self.email  \n",
    "\n",
    "    \n",
    "    def deposit(self, amount):\n",
    "        \"\"\"Deposit money to the account by adding to the balance.\n",
    "        \n",
    "        Parameters\n",
    "        ----------\n",
    "        amount : float\n",
    "            Amount to be deposited.\n",
    "        \n",
    "        \"\"\"\n",
    "        self.balance += amount \n",
    "        \n",
    "        \n",
    "    def withdraw(self, amount):\n",
    "        \"\"\"Remove money from the account by subtracting from the balance.\n",
    "        \n",
    "        Parameters\n",
    "        ----------\n",
    "        amount : float\n",
    "            Amount to be withdrawn.\n",
    "        \n",
    "        Returns\n",
    "        -------\n",
    "        True if there are enough money in the account\n",
    "        \n",
    "        False if there are not enough money in the account. Print out 'Nope! You ain't got enough money.'\n",
    "        \n",
    "        \"\"\"\n",
    "        if (self.balance >= amount):\n",
    "            self.balance -= amount\n",
    "            return True\n",
    "        else:\n",
    "            print(\"Nope! You ain't got enough money.\")\n",
    "            return False \n",
    "\n",
    "\n",
    "    \n",
    "    def transfer_to(self, money, other_account):\n",
    "        \"\"\"Transfer money to another account if there are enough money.\n",
    "        \n",
    "        Parameters\n",
    "        ----------\n",
    "        money : float\n",
    "            Amount of money to transfer.\n",
    "        \n",
    "        other_account : object\n",
    "            Instance of Account class where to transfer money.\n",
    "\n",
    "        The amount of money will be withdrawn from the owner's account and deposited to the recepent's account. \n",
    "        You can use the deposit and withdraw methods.\n",
    "        \n",
    "        \"\"\"\n",
    "        if self.withdraw(money):\n",
    "            other_account.deposit(money)\n",
    "    \n",
    "        "
   ]
  },
  {
   "cell_type": "markdown",
   "id": "b182afff-e36e-41fe-84ec-b338199f96a4",
   "metadata": {},
   "source": [
    "### Test your account class\n",
    "\n",
    "&#9989; Let's check whether the code works. Run the following cell and you should get the following output:"
   ]
  },
  {
   "cell_type": "code",
   "execution_count": 42,
   "id": "89697449-9b5a-4e2b-9377-e823a0bbbb9e",
   "metadata": {},
   "outputs": [
    {
     "name": "stdout",
     "output_type": "stream",
     "text": [
      "Customer Bob owns account 456789, which has $1200\n"
     ]
    }
   ],
   "source": [
    "acct = account('456789','Bob',1200)\n",
    "\n",
    "print(f\"Customer {acct.get_acct_owner()} owns account {acct.get_acct_number()}, which has ${acct.get_acct_balance()}\")\n"
   ]
  },
  {
   "cell_type": "markdown",
   "id": "cf47f90d",
   "metadata": {},
   "source": [
    "&#9989; **Question 4.2 (2 points):** Write a loop to substantiate all the accouns in the dataframe and input their attributes. Collect all the account objects to a list, for example, account_list."
   ]
  },
  {
   "cell_type": "code",
   "execution_count": 44,
   "id": "3506a66d",
   "metadata": {},
   "outputs": [],
   "source": [
    "### Put your code here\n",
    "account_list = []\n",
    "\n",
    "for index, row in ledger.iterrows():\n",
    "    acct = account(row['Account_number'], row['Name'], row['Balance'])\n",
    "    acct.set_acct_owner_sex(row['Sex'])\n",
    "    acct.set_acct_owner_eamil(row['Email'])\n",
    "    account_list.append(acct)\n"
   ]
  },
  {
   "cell_type": "markdown",
   "id": "a1b3ab4b",
   "metadata": {},
   "source": [
    "You should be able to find out the total funds of those accounts together using the cell below.\n"
   ]
  },
  {
   "cell_type": "code",
   "execution_count": 45,
   "id": "2c2e27bd",
   "metadata": {},
   "outputs": [
    {
     "data": {
      "text/plain": [
       "136300"
      ]
     },
     "execution_count": 45,
     "metadata": {},
     "output_type": "execute_result"
    }
   ],
   "source": [
    "funds = 0;\n",
    "for i in range(len(account_list)):\n",
    "\n",
    "    funds += account_list[i].get_acct_balance()\n",
    "\n",
    "funds"
   ]
  },
  {
   "cell_type": "markdown",
   "id": "4f71cc6b-c1da-44f3-a3f1-55c2fb8cf305",
   "metadata": {},
   "source": [
    " **As a bank teller, your boss asked you to process the transitions of the day.**\n",
    " \n",
    "Download the csv file from the link ```https://raw.githubusercontent.com/huichiayu/cmse_202_802/main/data/transactions.csv```\n",
    "for transaction list. Use Pandas to create a dataframe (for example, transacs) of the transaction history."
   ]
  },
  {
   "cell_type": "code",
   "execution_count": 49,
   "id": "41efda5d-6178-4927-b2ce-21c49d180e3c",
   "metadata": {},
   "outputs": [
    {
     "data": {
      "text/html": [
       "<div>\n",
       "<style scoped>\n",
       "    .dataframe tbody tr th:only-of-type {\n",
       "        vertical-align: middle;\n",
       "    }\n",
       "\n",
       "    .dataframe tbody tr th {\n",
       "        vertical-align: top;\n",
       "    }\n",
       "\n",
       "    .dataframe thead th {\n",
       "        text-align: right;\n",
       "    }\n",
       "</style>\n",
       "<table border=\"1\" class=\"dataframe\">\n",
       "  <thead>\n",
       "    <tr style=\"text-align: right;\">\n",
       "      <th></th>\n",
       "      <th>Customer</th>\n",
       "      <th>Transaction</th>\n",
       "      <th>Amount</th>\n",
       "      <th>Recipient</th>\n",
       "    </tr>\n",
       "  </thead>\n",
       "  <tbody>\n",
       "    <tr>\n",
       "      <th>0</th>\n",
       "      <td>Joel</td>\n",
       "      <td>withdraw</td>\n",
       "      <td>2000</td>\n",
       "      <td>NaN</td>\n",
       "    </tr>\n",
       "    <tr>\n",
       "      <th>1</th>\n",
       "      <td>Joel</td>\n",
       "      <td>withdraw</td>\n",
       "      <td>4000</td>\n",
       "      <td>NaN</td>\n",
       "    </tr>\n",
       "    <tr>\n",
       "      <th>2</th>\n",
       "      <td>Tess</td>\n",
       "      <td>deposit</td>\n",
       "      <td>50</td>\n",
       "      <td>NaN</td>\n",
       "    </tr>\n",
       "    <tr>\n",
       "      <th>3</th>\n",
       "      <td>David</td>\n",
       "      <td>deposit</td>\n",
       "      <td>300</td>\n",
       "      <td>NaN</td>\n",
       "    </tr>\n",
       "    <tr>\n",
       "      <th>4</th>\n",
       "      <td>Abby</td>\n",
       "      <td>transfer</td>\n",
       "      <td>1000</td>\n",
       "      <td>Tommy</td>\n",
       "    </tr>\n",
       "  </tbody>\n",
       "</table>\n",
       "</div>"
      ],
      "text/plain": [
       "  Customer Transaction  Amount Recipient\n",
       "0     Joel    withdraw    2000       NaN\n",
       "1     Joel    withdraw    4000       NaN\n",
       "2     Tess     deposit      50       NaN\n",
       "3    David     deposit     300       NaN\n",
       "4     Abby    transfer    1000     Tommy"
      ]
     },
     "execution_count": 49,
     "metadata": {},
     "output_type": "execute_result"
    }
   ],
   "source": [
    "### Put your code here\n",
    "transacs = pd.read_csv('transactions.csv')\n",
    "transacs.head()\n"
   ]
  },
  {
   "cell_type": "markdown",
   "id": "8eaf4d29-ed7f-418f-b05c-678b0c3bcccf",
   "metadata": {},
   "source": [
    "Here we can first create a dictionary to map customer names and account objects. The dictionary below will take customer names as the keys and respective account classes as values, such that you can use a customer's name to fetch his/her account."
   ]
  },
  {
   "cell_type": "code",
   "execution_count": 50,
   "id": "2880acca-dc33-4d5d-aae3-aefcd1b15f2a",
   "metadata": {},
   "outputs": [],
   "source": [
    "# code to make a customer-account dictionary data\n",
    "\n",
    "customer_name_list = []\n",
    "\n",
    "for i in range(len(account_list)):\n",
    "     customer_name_list.append(account_list[i].get_acct_owner())\n",
    "        \n",
    "d_key = dict(enumerate(customer_name_list))\n",
    "d_acct = dict(zip(customer_name_list,account_list))\n"
   ]
  },
  {
   "cell_type": "markdown",
   "id": "bef31365-1675-454b-ad11-aa5bccf590ab",
   "metadata": {},
   "source": [
    "&#9989; **Question 4.3 (3 points):** Write a bank class code that 1) can input those account objects in and 2) has a method to process those transactions. "
   ]
  },
  {
   "cell_type": "code",
   "execution_count": 55,
   "id": "079fcff6-6b01-40ff-a20f-2b44cf4e63c0",
   "metadata": {},
   "outputs": [],
   "source": [
    "### Complete the bank class below\n",
    "\n",
    "class bank():\n",
    "    \n",
    "    def __init__(self):\n",
    "        \"\"\"Initialize the attributes of the class.\n",
    "        \n",
    "        Parameters\n",
    "        ----------\n",
    "        accounts : dictionary \n",
    "            dictionary stores account list.\n",
    "        \n",
    "        trans : Pandas dataframe\n",
    "            dataframe of transaction data\n",
    "        \n",
    "        \"\"\"    \n",
    "        self.accounts = {}\n",
    "\n",
    "    \n",
    "    def set_accts(self, d_acc):\n",
    "        '''input accounts dictionary'''\n",
    "        self.accounts = d_acc\n",
    "\n",
    "    def set_transac_data(self, transactions):\n",
    "        \"\"\"input transaction dataframe\"\"\"\n",
    "        self.trans = transactions\n",
    "\n",
    "    def get_accts(self):\n",
    "        '''return accounts dictionary'''\n",
    "        return self.accounts\n",
    "        \n",
    "    \n",
    "    def process_transac(self):\n",
    "        \"\"\"Process transactions\n",
    "        \n",
    "        Parameters\n",
    "        -------------\n",
    "        num_trans : integer\n",
    "            nummber of transactions on the data sheet\n",
    "\n",
    "        customer : string\n",
    "            customer's name\n",
    "\n",
    "        action : string\n",
    "            Transactions: 'deposit', 'withdraw', or 'transfer'\n",
    "\n",
    "        amount : float\n",
    "            transaction amount\n",
    "\n",
    "        recepient : string\n",
    "            customer/account receives transfer\n",
    "\n",
    "        Loop over num_trans and process each transaction.\n",
    "        \n",
    "        \"\"\"\n",
    "        \n",
    "        self.num_trans = len(self.trans)\n",
    "        \n",
    "        # loop over transaction data sheet\n",
    "        for t in range(self.num_trans):\n",
    "            # extract relevant data for dataframe\n",
    "            customer = self.trans['Customer'][t]\n",
    "            action = self.trans['Transaction'][t]\n",
    "            amount = self.trans['Amount'][t]\n",
    "            recepient = self.trans['Recipient'][t] if pd.notna(self.trans['Recipient'][t]) else None\n",
    "            \n",
    "            cus_acct = self.accounts[customer]\n",
    "            # deposit: use account class' deposit method\n",
    "            if action == 'deposit':\n",
    "                cus_acct.deposit(amount)\n",
    "\n",
    "            # withdraw: use account class' withdraw method\n",
    "            if action == 'withdraw':\n",
    "                cus_acct.withdraw(amount)\n",
    "\n",
    "            # transfer: use account class' transfer method\n",
    "            if action == 'transfer' and recepient:\n",
    "                rec_acct = self.accounts[recepient]\n",
    "                cus_acct.transfer_to(amount, rec_acct)"
   ]
  },
  {
   "cell_type": "markdown",
   "id": "511581fb-80dd-4de7-88dd-3b7cecde2a46",
   "metadata": {},
   "source": [
    "### Test you bank class:\n",
    "\n",
    "Use the cell below to 1) instanstiate your bank class, 2) input account classes, 3) input transaction data, and 4) process transactions."
   ]
  },
  {
   "cell_type": "code",
   "execution_count": 57,
   "id": "6801bab0-84f5-444b-bd53-d677402f1f9d",
   "metadata": {},
   "outputs": [
    {
     "name": "stdout",
     "output_type": "stream",
     "text": [
      "Nope! You ain't got enough money.\n",
      "Joel 75000\n",
      "Elli 1300\n",
      "Tess 1000\n",
      "Bill 24200\n",
      "Henry 1380\n",
      "Sam 2820\n",
      "Abby 1900\n",
      "Tommy 8400\n",
      "Sarah 2300\n",
      "Marlin 2000\n",
      "David 1500\n"
     ]
    }
   ],
   "source": [
    "# run your bank class here\n",
    "\n",
    "MyBank = bank()\n",
    "\n",
    "MyBank.set_accts(d_acct)\n",
    "MyBank.set_transac_data(transacs)\n",
    "MyBank.process_transac()\n",
    "\n",
    "\n",
    "ac_list = MyBank.get_accts()\n",
    "\n",
    "# print customer's name and account balance\n",
    "for p in ac_list:\n",
    "    print(ac_list[p].get_acct_owner(),ac_list[p].get_acct_balance())"
   ]
  },
  {
   "cell_type": "markdown",
   "id": "03d2cc6b-bbb4-47c4-89f4-095221aae301",
   "metadata": {},
   "source": [
    "### 4.5. Finally, let's send out monthly notices to the customers.\n",
    "\n",
    "&#9989; **Question 4.5 (1 point):**\n",
    "\n",
    "Write some code to do the following.\n",
    "\n",
    "If an account balance is below  $\\$$1000,\n",
    "\n",
    "For female customers, print `customer email address`: Miss `customer name`, your account balance is $`account amount`. Please remain a minimum balance of $\\$$1000 to avoid maintanence fee.\n",
    "\n",
    "For male customers, print `customer email address`: Mr. `customer name`, your account balance is $`account amount`. Please remain a minimum balance of $\\$$1000 to avoid maintanence fee.\n",
    "\n",
    "If an account balance is above $\\$$15000,\n",
    "\n",
    "For female customers, print `customer email address`: Misss `customer name`, your account balance is $`account amount`. Would you like to join our investiment plan.\n",
    "\n",
    "For male customers, print `customer email address`: Mr. `customer name`, your account balance is $`account amount`. Would you like to join our investiment plan.\n",
    "\n",
    "Otherwise, \n",
    "\n",
    "For female customers, print `customer email address`: Misss `customer name`, your current account balance is $`account amount`. \n",
    "\n",
    "For male customers, print `customer email address`: Mr. `customer name`, your current account balance is $`account amount`. "
   ]
  },
  {
   "cell_type": "code",
   "execution_count": 60,
   "id": "71b3f7ef-20bb-4268-b63b-aec8cfe216bd",
   "metadata": {},
   "outputs": [
    {
     "name": "stdout",
     "output_type": "stream",
     "text": [
      "joeml@boston.edu: Mr. Joel, your account balance is $75000. Would you like to join our investiment plan.\n",
      "el@acad.edu: Miss Elli, your current account balance is $1300.\n",
      "sates@xf.com: Miss Tess, your current account balance is $1000.\n",
      "wills@tmb.com: Mr. Bill, your account balance is $24200. Would you like to join our investiment plan.\n",
      "henpi@mc.com: Mr. Henry, your current account balance is $1380.\n",
      "sjtt@tmb.com: Mr. Sam, your current account balance is $2820.\n",
      "abb@wlf.gov: Miss Abby, your current account balance is $1900.\n",
      "tmmm@jcks.gov: Mr. Tommy, your current account balance is $8400.\n",
      "sarahm@boston.edu: Miss Sarah, your current account balance is $2300.\n",
      "martlin@firef.com: Miss Marlin, your current account balance is $2000.\n",
      "dvd@culp.com: Mr. David, your current account balance is $1500.\n"
     ]
    }
   ],
   "source": [
    "for customer_name, account in ac_list.items():\n",
    "    balance = account.get_acct_balance()\n",
    "    email = account.get_acct_owner_eamil()\n",
    "    sex = account.get_acct_owner_sex()\n",
    "    \n",
    "    if balance < 1000:\n",
    "        if sex == 'F':\n",
    "            print(f\"{email}: Miss {customer_name}, your account balance is ${balance}. Please remain a minimum balance of $1000 to avoid maintenance fee.\")\n",
    "        elif sex == 'M':\n",
    "            print(f\"{email}: Mr. {customer_name}, your account balance is ${balance}. Please remain a minimum balance of $1000 to avoid maintenance fee.\")\n",
    "    elif balance > 15000:\n",
    "        if sex == 'F':\n",
    "            print(f\"{email}: Miss {customer_name}, your account balance is ${balance}. Would you like to join our investmenit plan.\")\n",
    "        elif sex == 'M':\n",
    "            print(f\"{email}: Mr. {customer_name}, your account balance is ${balance}. Would you like to join our investiment plan.\")\n",
    "    else:\n",
    "        if sex == 'F':\n",
    "            print(f\"{email}: Miss {customer_name}, your current account balance is ${balance}.\")\n",
    "        elif sex == 'M':\n",
    "            print(f\"{email}: Mr. {customer_name}, your current account balance is ${balance}.\")\n"
   ]
  },
  {
   "cell_type": "markdown",
   "id": "4e72adb2-ba28-4c56-bf30-d0fd7915f824",
   "metadata": {},
   "source": [
    "&#9989; **Do this**: **Leave the source of Gen AI here if you used any in Part 4.**"
   ]
  },
  {
   "cell_type": "markdown",
   "id": "2ae3dfe3",
   "metadata": {},
   "source": [
    "```\n",
    "I used Copilot to write the loop to go over the dataframe. \n",
    "I forgot about the itterrows method. \n",
    "Prompt: How can I loop over this dataframe? \n",
    "\n",
    "Also used it to get this working \n",
    "    # transfer: use account class' transfer method\n",
    "    if action == 'transfer' and recepient:\n",
    "        rec_acct = self.accounts[recepient]\n",
    "        cus_acct.transfer_to(amount, rec_acct)\n",
    "I couldn't get it working coz what I was passing thru wasn't an accounts object. \n",
    "Prompt: How can I turn recepient into an accounts object? \n",
    "\n",
    "Also used it to make the print statements for the last code block. I write downthe logic and one print statement and asked it to copy the rest.  \n",
    "Prompt: Could you complete the rest of the print statements?\n",
    "```"
   ]
  },
  {
   "cell_type": "markdown",
   "id": "c159cf9a",
   "metadata": {
    "tags": []
   },
   "source": [
    "---\n",
    "### &#128721; STOP (1 point)\n",
    "**Pause to commit your changes to your Git repository!**\n",
    "\n",
    "Take a moment to save your notebook, commit  and push the changes to your Git repository.\n",
    "\n",
    "---"
   ]
  },
  {
   "cell_type": "markdown",
   "id": "755cce02-7247-4e83-8c8f-9d3355f1512a",
   "metadata": {},
   "source": [
    "## Part 5: Writing a simple Python code using different programming paradigms (7 points)\n",
    "\n",
    "The position $(x,y)$ of a projectile is described by the formula:\n",
    "\n",
    "$$x_{n+1} = x_{n} + v_{x(n)} \\delta t$$   $$y_{n+1} = y_{n} + v_{y(n)} \\delta t$$\n",
    "\n",
    "where subscript $n$ indciates the $n$-th time step, $v_{x(n)}$ and $v_{y(n)}$ are the velocith components in the $x$ and $y$ directions, and $\\delta t$ is the time interval.\n",
    "The velocity components are updated by $$v_{x(n+1)} = v_{x(n)} + a_{x} \\delta t$$  $$v_{y(n+1)} = v_{y(n)} + a_{y} \\delta t,$$\n",
    "where $a_{x}$ and $a_{y}$ are the acceleration components in the $x$ and $y$ directions, respectively. \n",
    "If the initial velocity intersects the horizontal plane by an agle $\\theta$, the initial velocity components are $$v_{x(0)} = v_0 \\cos(\\theta)$$  $$v_{y(0)}=v_0\\sin(\\theta).$$ Assuming $a_x =0$, $a_y = -9.81$, $v_0 = 1100$, $\\theta = 80^\\circ$, and the initial position is $(x,y) = (0,0)$, the trajectory can be calculated by the following code. Clearly, this is a linear programming code. "
   ]
  },
  {
   "cell_type": "code",
   "execution_count": null,
   "id": "e2a72b9f-8b5f-424a-8443-ecf02d692ff3",
   "metadata": {},
   "outputs": [],
   "source": [
    "import math\n",
    "import matplotlib.pyplot as plt\n",
    "\n",
    "# accelectration\n",
    "ax = 0\n",
    "ay = -9.81\n",
    "\n",
    "# projection angle\n",
    "theta = 80\n",
    "\n",
    "# initial velocity\n",
    "v0 = 1100\n",
    "vx = v0*math.cos(math.radians(theta))\n",
    "vy = v0*math.sin(math.radians(theta))\n",
    "\n",
    "# position\n",
    "xp = []\n",
    "yp = []\n",
    "\n",
    "# initial position\n",
    "x = 0\n",
    "y = 0\n",
    "\n",
    "xp.append(x)\n",
    "yp.append(y)\n",
    "\n",
    "# time interval\n",
    "dt = 1;\n",
    "\n",
    "for t in range(500):\n",
    "\n",
    "    x += vx*dt\n",
    "    y += vy*dt\n",
    "\n",
    "    xp.append(x)\n",
    "    yp.append(y)\n",
    "    \n",
    "    vx += ax*dt\n",
    "    vy += ay*dt\n",
    "    \n",
    "    if y < 0:\n",
    "        break\n",
    "\n",
    "plt.plot(xp,yp,c='b')"
   ]
  },
  {
   "cell_type": "markdown",
   "id": "565a8282-74af-4ffd-b6cf-0c483cf9588f",
   "metadata": {},
   "source": [
    "&#9989; **Question 5.1 Write code for the above task using functional programming (2 points):** You will need to make 1) a function to update the position at each time step and 2) a function to update velocity. Complete the functions in the code cell below, such that the main code can run."
   ]
  },
  {
   "cell_type": "code",
   "execution_count": null,
   "id": "4c321a9f-e981-4657-ad7a-c83eaa777bdb",
   "metadata": {},
   "outputs": [],
   "source": [
    "### Complete the two functions below such that the main code can run\n",
    "\n",
    "# function\n",
    "def update_velocity(vx,vy,ax,ay,dt):\n",
    "\n",
    "\n",
    "\n",
    "\n",
    "def update_position(x,y,vx,vy,dt):\n",
    "\n",
    "\n",
    "    \n",
    "\n",
    "## =============================== main code\n",
    "    \n",
    "# accelectration\n",
    "ax = 0\n",
    "ay = -9.81\n",
    "\n",
    "\n",
    "# projection angle\n",
    "theta = 80\n",
    "\n",
    "# initial velocity\n",
    "v0 = 1100\n",
    "vx = v0*math.cos(math.radians(theta))\n",
    "vy = v0*math.sin(math.radians(theta))   \n",
    "\n",
    "# position\n",
    "xp = []\n",
    "yp = []\n",
    "\n",
    "# initial position\n",
    "x = 0\n",
    "y = 0\n",
    "\n",
    "xp.append(x)\n",
    "yp.append(y)\n",
    "\n",
    "# time interval\n",
    "dt = 1;\n",
    "\n",
    "for t in range(500):\n",
    "\n",
    "    # update position\n",
    "    x, y = update_position(x,y,vx,vy,dt)\n",
    "\n",
    "    xp.append(x)\n",
    "    yp.append(y)\n",
    "\n",
    "    # update velocity\n",
    "    vx, vy = update_velocity(vx,vy,ax,ay,dt)\n",
    "\n",
    "    \n",
    "    if y < 0:\n",
    "        break\n",
    "\n",
    "plt.plot(xp,yp,c='b')\n"
   ]
  },
  {
   "cell_type": "markdown",
   "id": "0e6d60bd-78fc-4aad-a488-4dbe6cbf762f",
   "metadata": {},
   "source": [
    "&#9989; **Question 5.2 Use your functional programming code to plot four trajectories for $\\theta$ = 80, 60, 45, and 30 degrees on the same plot.(1 point):** You should get a figure similar to \n",
    "\n",
    "<img src=\"https://i.ibb.co/Z1VK7sc0/trajectories.png\" width=400px>"
   ]
  },
  {
   "cell_type": "code",
   "execution_count": null,
   "id": "647cf0e9-9009-4cda-909c-0aa8107dff4e",
   "metadata": {},
   "outputs": [],
   "source": [
    "### Put your code here\n",
    "\n"
   ]
  },
  {
   "cell_type": "markdown",
   "id": "7c98bcff-f743-46c9-937f-e493e92666f5",
   "metadata": {},
   "source": [
    "&#9989; **Question 5.3 Write code for the above task using object-oriented programming (3 points):** In this case, each projectile will be an object, which contains the data (position, velocity, acceleration, inintial velocity, initial angle, and time interval size) and has functions for updating psoition and velocity, and making plot."
   ]
  },
  {
   "cell_type": "code",
   "execution_count": null,
   "id": "06556500-bcd9-4f3e-8b26-92fd4db2b945",
   "metadata": {},
   "outputs": [],
   "source": [
    "### Put your code here\n",
    "\n",
    "class Projectile:\n",
    "\n",
    "\n"
   ]
  },
  {
   "cell_type": "markdown",
   "id": "23fa07a7-a7ae-42bd-8c2b-0378bb299852",
   "metadata": {},
   "source": [
    "&#9989; **Question 5.4 Base on these result, comment on the advantages and disadvantges bwtween linear, functional and OOP programming (1 point):** "
   ]
  },
  {
   "cell_type": "markdown",
   "id": "5e8e38cf-1f3c-4711-b90a-227424e39219",
   "metadata": {},
   "source": [
    "### Put your answer here"
   ]
  },
  {
   "cell_type": "markdown",
   "id": "11b6f8cf-4290-451c-86a1-8cf5856e6c41",
   "metadata": {},
   "source": [
    "&#9989; **Do this**:  **Leave the source of Gen AI here if you used any in Part 5.**"
   ]
  },
  {
   "cell_type": "markdown",
   "id": "14435d84-82d4-4ffc-82b9-3188de6c7103",
   "metadata": {},
   "source": [
    "---\n",
    "### &#128721; STOP (1 point)\n",
    "**Pause to commit your changes to your Git repository!**\n",
    "\n",
    "Take a moment to save your notebook, commit  and push the changes to your Git repository.\n",
    "\n",
    "---"
   ]
  },
  {
   "cell_type": "markdown",
   "id": "868efbc9",
   "metadata": {
    "tags": []
   },
   "source": [
    "## You're done! Congrats on finishing your CMSE 202 Midterm!\n",
    "\n",
    "Make sure all of your changes to your repository are committed and pushed to GitHub. Also upload a copy of this notebook to the <a href=\"https://d2l.msu.edu/\">**dropbox on D2L**</a>  in case something went wrong with your repository or if you couldn't get the repository to work."
   ]
  },
  {
   "cell_type": "code",
   "execution_count": null,
   "id": "179ed9be-e00a-4442-8268-32e4716524ef",
   "metadata": {},
   "outputs": [],
   "source": []
  }
 ],
 "metadata": {
  "kernelspec": {
   "display_name": "Python 3",
   "language": "python",
   "name": "python3"
  },
  "language_info": {
   "codemirror_mode": {
    "name": "ipython",
    "version": 3
   },
   "file_extension": ".py",
   "mimetype": "text/x-python",
   "name": "python",
   "nbconvert_exporter": "python",
   "pygments_lexer": "ipython3",
   "version": "3.10.11"
  }
 },
 "nbformat": 4,
 "nbformat_minor": 5
}
